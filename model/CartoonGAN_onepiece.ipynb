{
  "cells": [
    {
      "cell_type": "markdown",
      "metadata": {
        "id": "y9BV05SP7GM3"
      },
      "source": [
        "### 1. Import Modules, Dataset, Transform, Dataloader"
      ]
    },
    {
      "cell_type": "code",
      "source": [
        "from google.colab import drive\n",
        "drive.mount('/content/drive')"
      ],
      "metadata": {
        "colab": {
          "base_uri": "https://localhost:8080/"
        },
        "id": "wGsc0PSU7MFG",
        "outputId": "1d023a02-7a77-4c30-9e11-9416735424c6"
      },
      "execution_count": null,
      "outputs": [
        {
          "output_type": "stream",
          "name": "stdout",
          "text": [
            "Mounted at /content/drive\n"
          ]
        }
      ]
    },
    {
      "cell_type": "markdown",
      "source": [
        "Load Zip Files from Server"
      ],
      "metadata": {
        "id": "RHsrb1zPADnj"
      }
    },
    {
      "cell_type": "code",
      "source": [
        "import zipfile\n",
        "import os\n",
        "import shutil\n",
        "\n",
        "def unzip_and_count(dataset, dst_path):\n",
        "    with zipfile.ZipFile(dataset, 'r') as file:\n",
        "        # Create a directory with the same name as the zip file (without extension) to extract files into it\n",
        "        extract_dir = os.path.join(dst_path, os.path.splitext(os.path.basename(dataset))[0])\n",
        "\n",
        "        # Create the directory if it doesn't exist\n",
        "        if not os.path.exists(extract_dir):\n",
        "            os.makedirs(extract_dir)\n",
        "\n",
        "        # Extract all contents into the created directory\n",
        "        file.extractall(extract_dir)\n",
        "\n",
        "    # Print the count of images\n",
        "    print(f'total images in {os.path.basename(dataset)}:', len(os.listdir(extract_dir)))\n",
        "\n",
        "# zip files들 경로 지정\n",
        "datasets = {\n",
        "    'realimage_crop.zip': '/content/drive/MyDrive/GAN/CartoonGAN/images/realimage_crop.zip',\n",
        "    'cartoon_crop_image.zip': '/content/drive/MyDrive/GAN/CartoonGAN/images/cartoon_crop_image.zip',\n",
        "    'cartoon_crop_smooth_image.zip': '/content/drive/MyDrive/GAN/CartoonGAN/images/cartoon_crop_smooth_image.zip'\n",
        "}\n",
        "\n",
        "# Destination directory\n",
        "dst_path = '/content/images'\n",
        "\n",
        "# Unzip and count images for each dataset\n",
        "for name, path in datasets.items():\n",
        "    unzip_and_count(path, dst_path)\n",
        "\n"
      ],
      "metadata": {
        "colab": {
          "base_uri": "https://localhost:8080/"
        },
        "id": "ltUL1CbN96RT",
        "outputId": "248d6936-f673-43a7-bf27-fc0c68e15065"
      },
      "execution_count": null,
      "outputs": [
        {
          "output_type": "stream",
          "name": "stdout",
          "text": [
            "total images in realimage_crop.zip: 1\n",
            "total images in cartoon_crop_image.zip: 1\n",
            "total images in cartoon_crop_smooth_image.zip: 1\n"
          ]
        }
      ]
    },
    {
      "cell_type": "code",
      "source": [
        "crop_image = os.path.join(dst_path,'cartoon_crop_image/cartoon_crop_image')\n",
        "print('total  images:', len(os.listdir(crop_image)))\n",
        "\n",
        "smooth = os.path.join(dst_path,'cartoon_crop_smooth_image/cartoon_crop_smooth_image')\n",
        "print('total  images:', len(os.listdir(smooth)))\n",
        "\n",
        "real = os.path.join(dst_path,'realimage_crop/cropped_images')\n",
        "print('total  images:', len(os.listdir(real)))"
      ],
      "metadata": {
        "colab": {
          "base_uri": "https://localhost:8080/"
        },
        "id": "Yi7LP01T-bTZ",
        "outputId": "61a92e1f-0d07-4bf2-c7bf-9f2fee44690e"
      },
      "execution_count": null,
      "outputs": [
        {
          "output_type": "stream",
          "name": "stdout",
          "text": [
            "total  images: 9782\n",
            "total  images: 9782\n",
            "total  images: 10000\n"
          ]
        }
      ]
    },
    {
      "cell_type": "code",
      "execution_count": null,
      "metadata": {
        "id": "R8p_LQGI7GM6"
      },
      "outputs": [],
      "source": [
        "import torch\n",
        "import torch.nn as nn\n",
        "import torch.nn.functional as F\n",
        "import torch.optim as optim\n",
        "import torchvision\n",
        "from torchvision import datasets, transforms\n",
        "from torchvision.models import vgg16\n",
        "from torch.utils.data import DataLoader, Dataset\n",
        "from PIL import Image, ImageFile\n",
        "ImageFile.LOAD_TRUNCATED_IMAGES = True\n",
        "import numpy as np\n",
        "import matplotlib.pyplot as plt\n",
        "import os\n",
        "import time\n",
        "import gc\n",
        "from tqdm import tqdm"
      ]
    },
    {
      "cell_type": "code",
      "execution_count": null,
      "metadata": {
        "id": "C-t7MPmn7GM7"
      },
      "outputs": [],
      "source": [
        "class ImageDataset(Dataset):  # pytorch 의 Dataset 함수 상속받음\n",
        "\n",
        "    def __init__(self, root_dir, transform=None):\n",
        "        self.root_dir = root_dir # 이미지 파일들이 저장된 디렉토리의 경로\n",
        "        self.root_files = os.listdir(root_dir) # root_dir 안에 있는 모든 파일들의 목록들을 저장\n",
        "        self.transform = transform\n",
        "\n",
        "    def __len__(self):\n",
        "        return len(self.root_files) # root_files 에 있는 파일들의 갯수\n",
        "\n",
        "    def __getitem__(self, idx):\n",
        "        img_path = os.path.join(self.root_dir, self.root_files[idx])\n",
        "        img = Image.open(img_path).convert('RGB') # 'RGB'로 변환을 강제함\n",
        "        if self.transform:\n",
        "            img = self.transform(img)\n",
        "\n",
        "        return img"
      ]
    },
    {
      "cell_type": "code",
      "execution_count": null,
      "metadata": {
        "id": "pNGohtHk7GM7"
      },
      "outputs": [],
      "source": [
        "def get_default_transforms(size=256):\n",
        "    return transforms.Compose([\n",
        "        transforms.Resize(size=size),\n",
        "        transforms.CenterCrop(size=size),\n",
        "        transforms.RandomHorizontalFlip(p=.5), # 이미지를 50% 확률로 좌우 반전시킴\n",
        "        transforms.ToTensor(),\n",
        "        transforms.Normalize(mean=[0.485, 0.456, 0.406],\n",
        "                             std=[0.229, 0.224, 0.225])\n",
        "    ])\n",
        "\n",
        "def get_no_aug_transform(size=256):\n",
        "    return transforms.Compose([\n",
        "        # transforms.Resize(size=size),\n",
        "        # transforms.CenterCrop(size=size),\n",
        "        transforms.ToTensor(),\n",
        "        transforms.Normalize(mean=[0.485, 0.456, 0.406],\n",
        "                             std=[0.229, 0.224, 0.225])\n",
        "    ])\n",
        "\n",
        "def get_pair_transforms(size=256, flip=.01):\n",
        "    return transforms.Compose([\n",
        "        # transforms.Resize(size=size),\n",
        "        # transforms.RandomHorizontalFlip(p=flip),\n",
        "        transforms.ToTensor(),\n",
        "        transforms.Normalize(mean=[0.485, 0.456, 0.406],\n",
        "                             std=[0.229, 0.224, 0.225])\n",
        "    ])\n"
      ]
    },
    {
      "cell_type": "code",
      "execution_count": null,
      "metadata": {
        "id": "8dFyy9k47GM7"
      },
      "outputs": [],
      "source": [
        "real_data_path = '/content/images/realimage_crop/cropped_images'\n",
        "cartoon_data_path = (\n",
        "    '/content/images/cartoon_crop_image/cartoon_crop_image'\n",
        ")\n",
        "cartoon_smoothed_data_path = (\n",
        "    '/content/images/cartoon_crop_smooth_image/cartoon_crop_smooth_image'\n",
        ")\n",
        "save_pretrained_path = (\n",
        "   ' /content/drive/MyDrive/cartoongan/pretrain_images'\n",
        ")\n",
        "save_pretrained_checkpoints = \"/content/drive/MyDrive/GAN/CartoonGAN/checkpoints/pretrain_G\"\n",
        "\n",
        "\n",
        "\n",
        "\n",
        "def get_dataloader(path, size=256, batch_size=64, transforms=None, flip=0.005):\n",
        "    \"If no transform is given, a default one is used\"\n",
        "\n",
        "    if not transforms:\n",
        "        transforms = get_default_transforms(size=size)\n",
        "    dataset = ImageDataset(path, transform=transforms)\n",
        "    return DataLoader(\n",
        "        dataset,\n",
        "        batch_size=batch_size,\n",
        "        shuffle=True,\n",
        "        drop_last=True,#True 일경우 마지막 배치가 batch_size보다 작을 경우 그 배치를 버림\n",
        "        num_workers=0,\n",
        "        # multiprocessing_context=\"fork\",\n",
        "    )"
      ]
    },
    {
      "cell_type": "code",
      "execution_count": null,
      "metadata": {
        "colab": {
          "base_uri": "https://localhost:8080/",
          "height": 435
        },
        "id": "6H9bLfML7GM8",
        "outputId": "38599dec-36c9-4d98-fcf6-0ff2fcd57985"
      },
      "outputs": [
        {
          "output_type": "display_data",
          "data": {
            "text/plain": [
              "<Figure size 640x480 with 1 Axes>"
            ],
            "image/png": "[encoded data removed]"
          },
          "metadata": {}
        }
      ],
      "source": [
        "def unnormalize(tensor):\n",
        "    # 평균과 표준편차로 정규화된 텐서를 다시 원래 범위로 변환\n",
        "    mean = torch.tensor([0.485, 0.456, 0.406]).view(3, 1, 1)\n",
        "    std = torch.tensor([0.229, 0.224, 0.225]).view(3, 1, 1)\n",
        "    tensor = tensor * std + mean\n",
        "    return tensor\n",
        "\n",
        "# ImageDataset에서 이미지 로드\n",
        "image_tensor = ImageDataset(real_data_path, transform=get_no_aug_transform())[1244]\n",
        "\n",
        "# 정규화 해제\n",
        "image_np = unnormalize(image_tensor).permute(1, 2, 0).numpy()  # CHW -> HWC 변환\n",
        "\n",
        "# 이미지 시각화\n",
        "plt.imshow(image_np)\n",
        "plt.show()\n"
      ]
    },
    {
      "cell_type": "code",
      "source": [
        "# import os\n",
        "\n",
        "# def rename_images(directory):\n",
        "#     # 디렉토리에서 모든 파일을 불러온다\n",
        "#     files = os.listdir(directory)\n",
        "#     # 파일 이름을 정렬한다 (선택적)\n",
        "#     files.sort()\n",
        "#     # 파일 이름 변경\n",
        "#     for i, filename in enumerate(files, 1):\n",
        "#         # 파일의 확장자를 유지하기 위해 분리\n",
        "#         ext = os.path.splitext(filename)[1]\n",
        "#         # 새 파일 이름 생성\n",
        "#         new_filename = f\"{i}{ext}\"\n",
        "#         # 파일 이름 변경 실행\n",
        "#         os.rename(os.path.join(directory, filename), os.path.join(directory, new_filename))\n",
        "#         print(f\"{filename} -> {new_filename}\")"
      ],
      "metadata": {
        "id": "TdVZIrglCbY-"
      },
      "execution_count": null,
      "outputs": []
    },
    {
      "cell_type": "markdown",
      "metadata": {
        "id": "1jt8Rrbq7GM9"
      },
      "source": [
        "### 2. Layers"
      ]
    },
    {
      "cell_type": "code",
      "execution_count": null,
      "metadata": {
        "id": "hanX1tb87GM9"
      },
      "outputs": [],
      "source": [
        "def conv_3x3(in_channels, out_channels, stride=1):\n",
        "    \"\"\"\n",
        "    3 x 3 convolution w/ reflection padding\n",
        "\n",
        "    (3, 1, 1) convolution with mirror padding 으로 해석하면 됨\n",
        "    \"\"\"\n",
        "    return nn.Sequential(\n",
        "        nn.ReflectionPad2d(1),\n",
        "        nn.Conv2d(\n",
        "            in_channels,\n",
        "            out_channels,\n",
        "            kernel_size=3,\n",
        "            stride=stride,\n",
        "            padding=0,\n",
        "            bias=False,\n",
        "        ),\n",
        "    )"
      ]
    },
    {
      "cell_type": "code",
      "execution_count": null,
      "metadata": {
        "id": "ZaZUtczM7GM9"
      },
      "outputs": [],
      "source": [
        "def initialize_weights(net):\n",
        "    for m in net.modules():\n",
        "        if isinstance(m, nn.Conv2d) or isinstance(m, nn.ConvTranspose2d):\n",
        "            m.weight.data.normal_(0, 0.02)\n",
        "            if m.bias is not None:\n",
        "                m.bias.data.zero_()\n",
        "        elif isinstance(m, nn.Linear):\n",
        "            m.weight.data.normal_(0, 0.02)\n",
        "            if m.bias is not None:\n",
        "                m.bias.data.zero_()\n",
        "        elif isinstance(m, nn.BatchNorm2d):\n",
        "            m.weight.data.fill_(1)\n",
        "            m.bias.data.zero_()\n"
      ]
    },
    {
      "cell_type": "code",
      "execution_count": null,
      "metadata": {
        "id": "9az2RwBu7GM9"
      },
      "outputs": [],
      "source": [
        "class ResBlock(nn.Module):\n",
        "    def __init__(self, n_channels):\n",
        "        super(ResBlock, self).__init__()\n",
        "        self.block = nn.Sequential(\n",
        "            conv_3x3(n_channels, n_channels, stride=1),\n",
        "            nn.BatchNorm2d(n_channels),\n",
        "            nn.ReLU(inplace=True),\n",
        "            conv_3x3(n_channels, n_channels, stride=1),\n",
        "            nn.BatchNorm2d(n_channels),\n",
        "        )\n",
        "        self.relu = nn.ReLU(inplace=True)\n",
        "\n",
        "        initialize_weights(self)\n",
        "\n",
        "    def forward(self, x):\n",
        "        residual = x\n",
        "        out = self.block(x)\n",
        "        out += residual\n",
        "        out = self.relu(out)\n",
        "        return out"
      ]
    },
    {
      "cell_type": "code",
      "execution_count": null,
      "metadata": {
        "id": "aHQ3ZZVa7GM-"
      },
      "outputs": [],
      "source": [
        "def add_resblocks(n_channels, n_blocks):\n",
        "    return nn.Sequential(*[ResBlock(n_channels) for _ in range(n_blocks)])"
      ]
    },
    {
      "cell_type": "code",
      "execution_count": null,
      "metadata": {
        "id": "NXSf69Vz7GM-"
      },
      "outputs": [],
      "source": [
        "class Upblock(nn.Module):\n",
        "    def __init__(self, in_channels, out_channels, stride=2, add_blur=False):\n",
        "        super(Upblock, self).__init__()\n",
        "\n",
        "        self.shuffle = nn.ConvTranspose2d(\n",
        "            in_channels,\n",
        "            out_channels,\n",
        "            kernel_size=3,\n",
        "            stride=stride,\n",
        "            padding=0,\n",
        "            bias=False,\n",
        "        )\n",
        "        \"\"\"\n",
        "        (3, 2, 0): 3x3 convolution with stride 2 and 0 padding\n",
        "\n",
        "        output_size = (2 * input_size) + 1\n",
        "\n",
        "        \"\"\"\n",
        "\n",
        "        self.has_blur = add_blur\n",
        "        if add_blur:\n",
        "            self.blur = nn.AvgPool2d(2, 1)\n",
        "\n",
        "        \"\"\"\n",
        "        AvgPool2d(kernel_size=2, stride=1, padding=0)\n",
        "\n",
        "        output_size = (((2 * input_size) + 1) - 2 / 1) + 1 = 2 * input_size\n",
        "\n",
        "        \"\"\"\n",
        "\n",
        "    def forward(self, x):\n",
        "        x = self.shuffle(x)\n",
        "        if self.has_blur:\n",
        "            x = self.blur(x)\n",
        "        return x"
      ]
    },
    {
      "cell_type": "markdown",
      "metadata": {
        "id": "IPCzBEkM7GM-"
      },
      "source": [
        "### 3. Helpers"
      ]
    },
    {
      "cell_type": "code",
      "execution_count": null,
      "metadata": {
        "id": "I2CwuptO7GM-"
      },
      "outputs": [],
      "source": [
        "def unnormalize(t):\n",
        "    std = torch.tensor([0.229, 0.224, 0.225])[:, None, None].to(t.device)\n",
        "    mean = torch.tensor([0.485, 0.456, 0.406])[:, None, None].to(t.device)\n",
        "    return t * std + mean"
      ]
    },
    {
      "cell_type": "code",
      "execution_count": null,
      "metadata": {
        "id": "EPhDB0WJ7GM-"
      },
      "outputs": [],
      "source": [
        "# def unnormalize(t):\n",
        "#     mean = torch.tensor([0.485, 0.456, 0.406], dtype=torch.float32).reshape(1, 3, 1, 1).to(t.device)\n",
        "#     std = torch.tensor([0.229, 0.224, 0.225], dtype=torch.float32).reshape(1, 3, 1, 1).to(t.device)\n",
        "#     return t * std + mean"
      ]
    },
    {
      "cell_type": "markdown",
      "metadata": {
        "id": "vXz3rlvo7GM-"
      },
      "source": [
        "### 4. Discriminator"
      ]
    },
    {
      "cell_type": "code",
      "execution_count": null,
      "metadata": {
        "id": "bv5IzJtM7GM-"
      },
      "outputs": [],
      "source": [
        "class Discriminator(nn.Module):\n",
        "    def __init__(self):\n",
        "        super(Discriminator, self).__init__()\n",
        "\n",
        "        self.layers = nn.Sequential(\n",
        "            # Flat Block(1)\n",
        "            conv_3x3(3, 32, stride=1), # 32 x 256 x 256\n",
        "            nn.LeakyReLU(0.2, inplace=True),\n",
        "\n",
        "            # Down Block(2)\n",
        "            conv_3x3(32, 64, stride=2), # 64 x 128 x 128\n",
        "            nn.LeakyReLU(0.2, inplace=True),\n",
        "            conv_3x3(64, 128, stride=1), # 128 x 128 x 128\n",
        "            nn.BatchNorm2d(128),\n",
        "            nn.LeakyReLU(0.2, inplace=True),\n",
        "\n",
        "            conv_3x3(128, 128, stride=2), # 128 x 64 x 64\n",
        "            nn.LeakyReLU(0.2, inplace=True),\n",
        "            conv_3x3(128, 256, stride=1), # 256 x 64 x 64\n",
        "            nn.BatchNorm2d(256),\n",
        "            nn.LeakyReLU(0.2, inplace=True),\n",
        "\n",
        "            # Feature construction block(1)\n",
        "            conv_3x3(256, 256, stride=1), # 256 x 64 x 64\n",
        "            nn.BatchNorm2d(256),\n",
        "            nn.LeakyReLU(0.2, inplace=True),\n",
        "\n",
        "            # Final Convolution(1)\n",
        "            conv_3x3(256, 1, stride=1), # 1 x 64 x 64\n",
        "            nn.Sigmoid()\n",
        "        )\n",
        "\n",
        "        initialize_weights(self)\n",
        "\n",
        "    def forward(self, x):\n",
        "        return self.layers(x)"
      ]
    },
    {
      "cell_type": "markdown",
      "metadata": {
        "id": "47tZjD0N7GM-"
      },
      "source": [
        "### 5. Generator"
      ]
    },
    {
      "cell_type": "code",
      "execution_count": null,
      "metadata": {
        "id": "bVX15_ss7GM-"
      },
      "outputs": [],
      "source": [
        "class Generator(nn.Module):\n",
        "    def __init__(self):\n",
        "        super(Generator, self).__init__()\n",
        "\n",
        "        self.layers = nn.Sequential(\n",
        "            # Flat Block(1)\n",
        "            nn.Conv2d(\n",
        "                3, 64, kernel_size=7, stride=1, padding=7 // 2, bias=False\n",
        "            ),  # 64 x 256 x 256 (size 유지)\n",
        "            nn.BatchNorm2d(64),\n",
        "            nn.ReLU(inplace=True),\n",
        "\n",
        "            # Down Block(2)\n",
        "            conv_3x3(64, 128, stride=2), # 128 x 128 x 128\n",
        "            conv_3x3(128, 128, stride=1), # 128 x 128 x 128\n",
        "            nn.BatchNorm2d(128),\n",
        "            nn.ReLU(inplace=True),\n",
        "\n",
        "            conv_3x3(128, 256, stride=2), # 256 x 64 x 64\n",
        "            conv_3x3(256, 256, stride=1), # 256 x 64 x 64\n",
        "            nn.BatchNorm2d(256),\n",
        "            nn.ReLU(inplace=True),\n",
        "\n",
        "            # Residual Block(8)\n",
        "            add_resblocks(256, 8), # 256 x 64 x 64\n",
        "\n",
        "            # Up Block(2)\n",
        "            Upblock(256, 128, stride=2, add_blur=True), # 128 x 128 x 128\n",
        "            conv_3x3(128, 128, stride=1), # 128 x 128 x 128\n",
        "            nn.BatchNorm2d(128),\n",
        "            nn.ReLU(inplace=True),\n",
        "\n",
        "            Upblock(128, 64, stride=2, add_blur=True), # 64 x 256 x 256\n",
        "            conv_3x3(64, 64, stride=1), # 64 x 256 x 256\n",
        "            nn.BatchNorm2d(64),\n",
        "            nn.ReLU(inplace=True),\n",
        "\n",
        "            # Final Convolution(1)\n",
        "            nn.Conv2d(64, 3, kernel_size=7, stride=1, padding=7 // 2, bias=False), # 3 x 256 x 256 (size 유지)\n",
        "        )\n",
        "\n",
        "        initialize_weights(self)\n",
        "\n",
        "    def forward(self, x):\n",
        "        return self.layers(x)\n"
      ]
    },
    {
      "cell_type": "markdown",
      "metadata": {
        "id": "3YP1w9XE7GM_"
      },
      "source": [
        "### 6. Pre - Training (Only G)"
      ]
    },
    {
      "cell_type": "markdown",
      "metadata": {
        "id": "fuecGGOm7GM_"
      },
      "source": [
        "처음에 Generator 학습시키기 ( Content 학습시키기 )\n",
        "- vgg ( 31번쨰 layer 까지 있는데 24번째 layer 까지만 가져오고 )\n",
        "- vgg 를 통과한 real_image 와 generator 가 real image 를 참고하여 만든 generator image 를 손실함수에 넣어 generator 를 train 시킴\n"
      ]
    },
    {
      "cell_type": "code",
      "execution_count": null,
      "metadata": {
        "colab": {
          "base_uri": "https://localhost:8080/"
        },
        "id": "ZQ6Il-a17GM_",
        "outputId": "92a60186-4418-4a89-b4dc-0aee5828e106"
      },
      "outputs": [
        {
          "output_type": "stream",
          "name": "stderr",
          "text": [
            "/usr/local/lib/python3.10/dist-packages/torchvision/models/_utils.py:208: UserWarning: The parameter 'pretrained' is deprecated since 0.13 and may be removed in the future, please use 'weights' instead.\n",
            "  warnings.warn(\n",
            "/usr/local/lib/python3.10/dist-packages/torchvision/models/_utils.py:223: UserWarning: Arguments other than a weight enum or `None` for 'weights' are deprecated since 0.13 and may be removed in the future. The current behavior is equivalent to passing `weights=VGG16_Weights.IMAGENET1K_V1`. You can also use `weights=VGG16_Weights.DEFAULT` to get the most up-to-date weights.\n",
            "  warnings.warn(msg)\n",
            "Downloading: \"https://download.pytorch.org/models/vgg16-397923af.pth\" to /root/.cache/torch/hub/checkpoints/vgg16-397923af.pth\n",
            "100%|██████████| 528M/528M [00:08<00:00, 64.8MB/s]\n"
          ]
        },
        {
          "output_type": "execute_result",
          "data": {
            "text/plain": [
              "[Conv2d(3, 64, kernel_size=(3, 3), stride=(1, 1), padding=(1, 1)),\n",
              " ReLU(inplace=True),\n",
              " Conv2d(64, 64, kernel_size=(3, 3), stride=(1, 1), padding=(1, 1)),\n",
              " ReLU(inplace=True),\n",
              " MaxPool2d(kernel_size=2, stride=2, padding=0, dilation=1, ceil_mode=False),\n",
              " Conv2d(64, 128, kernel_size=(3, 3), stride=(1, 1), padding=(1, 1)),\n",
              " ReLU(inplace=True),\n",
              " Conv2d(128, 128, kernel_size=(3, 3), stride=(1, 1), padding=(1, 1)),\n",
              " ReLU(inplace=True),\n",
              " MaxPool2d(kernel_size=2, stride=2, padding=0, dilation=1, ceil_mode=False),\n",
              " Conv2d(128, 256, kernel_size=(3, 3), stride=(1, 1), padding=(1, 1)),\n",
              " ReLU(inplace=True),\n",
              " Conv2d(256, 256, kernel_size=(3, 3), stride=(1, 1), padding=(1, 1)),\n",
              " ReLU(inplace=True),\n",
              " Conv2d(256, 256, kernel_size=(3, 3), stride=(1, 1), padding=(1, 1)),\n",
              " ReLU(inplace=True),\n",
              " MaxPool2d(kernel_size=2, stride=2, padding=0, dilation=1, ceil_mode=False),\n",
              " Conv2d(256, 512, kernel_size=(3, 3), stride=(1, 1), padding=(1, 1)),\n",
              " ReLU(inplace=True),\n",
              " Conv2d(512, 512, kernel_size=(3, 3), stride=(1, 1), padding=(1, 1)),\n",
              " ReLU(inplace=True),\n",
              " Conv2d(512, 512, kernel_size=(3, 3), stride=(1, 1), padding=(1, 1)),\n",
              " ReLU(inplace=True),\n",
              " MaxPool2d(kernel_size=2, stride=2, padding=0, dilation=1, ceil_mode=False),\n",
              " Conv2d(512, 512, kernel_size=(3, 3), stride=(1, 1), padding=(1, 1)),\n",
              " ReLU(inplace=True),\n",
              " Conv2d(512, 512, kernel_size=(3, 3), stride=(1, 1), padding=(1, 1)),\n",
              " ReLU(inplace=True),\n",
              " Conv2d(512, 512, kernel_size=(3, 3), stride=(1, 1), padding=(1, 1)),\n",
              " ReLU(inplace=True),\n",
              " MaxPool2d(kernel_size=2, stride=2, padding=0, dilation=1, ceil_mode=False)]"
            ]
          },
          "metadata": {},
          "execution_count": 22
        }
      ],
      "source": [
        "#pretrain된 vgg16 의 feature layers 를 list 로 나타냄\n",
        "list(vgg16(pretrained=True).features)"
      ]
    },
    {
      "cell_type": "code",
      "execution_count": null,
      "metadata": {
        "colab": {
          "base_uri": "https://localhost:8080/"
        },
        "id": "-C-8_1Df7GM_",
        "outputId": "a5421f0f-1814-4350-c206-0e6d755a16fe"
      },
      "outputs": [
        {
          "output_type": "stream",
          "name": "stdout",
          "text": [
            "31\n"
          ]
        },
        {
          "output_type": "execute_result",
          "data": {
            "text/plain": [
              "[Conv2d(3, 64, kernel_size=(3, 3), stride=(1, 1), padding=(1, 1)),\n",
              " ReLU(inplace=True),\n",
              " Conv2d(64, 64, kernel_size=(3, 3), stride=(1, 1), padding=(1, 1)),\n",
              " ReLU(inplace=True),\n",
              " MaxPool2d(kernel_size=2, stride=2, padding=0, dilation=1, ceil_mode=False),\n",
              " Conv2d(64, 128, kernel_size=(3, 3), stride=(1, 1), padding=(1, 1)),\n",
              " ReLU(inplace=True),\n",
              " Conv2d(128, 128, kernel_size=(3, 3), stride=(1, 1), padding=(1, 1)),\n",
              " ReLU(inplace=True),\n",
              " MaxPool2d(kernel_size=2, stride=2, padding=0, dilation=1, ceil_mode=False),\n",
              " Conv2d(128, 256, kernel_size=(3, 3), stride=(1, 1), padding=(1, 1)),\n",
              " ReLU(inplace=True),\n",
              " Conv2d(256, 256, kernel_size=(3, 3), stride=(1, 1), padding=(1, 1)),\n",
              " ReLU(inplace=True),\n",
              " Conv2d(256, 256, kernel_size=(3, 3), stride=(1, 1), padding=(1, 1)),\n",
              " ReLU(inplace=True),\n",
              " MaxPool2d(kernel_size=2, stride=2, padding=0, dilation=1, ceil_mode=False),\n",
              " Conv2d(256, 512, kernel_size=(3, 3), stride=(1, 1), padding=(1, 1)),\n",
              " ReLU(inplace=True),\n",
              " Conv2d(512, 512, kernel_size=(3, 3), stride=(1, 1), padding=(1, 1)),\n",
              " ReLU(inplace=True),\n",
              " Conv2d(512, 512, kernel_size=(3, 3), stride=(1, 1), padding=(1, 1)),\n",
              " ReLU(inplace=True),\n",
              " MaxPool2d(kernel_size=2, stride=2, padding=0, dilation=1, ceil_mode=False),\n",
              " Conv2d(512, 512, kernel_size=(3, 3), stride=(1, 1), padding=(1, 1))]"
            ]
          },
          "metadata": {},
          "execution_count": 23
        }
      ],
      "source": [
        "print(len(list(vgg16(pretrained=True).features)), sep=\"\\n\")\n",
        "list(vgg16(pretrained=True).features)[:25]"
      ]
    },
    {
      "cell_type": "code",
      "execution_count": null,
      "metadata": {
        "id": "WwgawFPK7GM_"
      },
      "outputs": [],
      "source": [
        "class ContentLoss(nn.Module):\n",
        "    def __init__(self, omega=10):\n",
        "        super(ContentLoss, self).__init__()\n",
        "\n",
        "        self.base_loss = nn.L1Loss()\n",
        "        self.omega = omega\n",
        "\n",
        "        perception = list(vgg16(pretrained=True).features)[:25]\n",
        "        self.perception = nn.Sequential(*perception).eval() # sequential module로 변환하고, 평가모드로\n",
        "\n",
        "        for param in self.perception.parameters():\n",
        "            param.requires_grad = False # 학습 중에 업데이트 되지 않도록\n",
        "\n",
        "        gc.collect()\n",
        "\n",
        "    def forward(self, x, y):\n",
        "        x = self.perception(x) # ex) vgg를 통과한 real_images feature map\n",
        "        y = self.perception(y) # ex) vgg를 통과한 generated_images feature map\n",
        "\n",
        "        return self.base_loss(x, y) * self.omega"
      ]
    },
    {
      "cell_type": "code",
      "execution_count": null,
      "metadata": {
        "id": "rqpmMJ3R7GM_"
      },
      "outputs": [],
      "source": [
        "def pretrain():\n",
        "    torch.manual_seed(0)\n",
        "    device = torch.device(\"cuda\" if torch.cuda.is_available() else \"cpu\")\n",
        "    print(device)\n",
        "\n",
        "    # Configurations\n",
        "    batch_size = 16\n",
        "    image_size = 256\n",
        "    learning_rate = 1e-3\n",
        "    betas = (0.5, 0.999)\n",
        "    weight_decay = 1e-3\n",
        "    n_epochs = 10\n",
        "\n",
        "    # Data Loaders\n",
        "    pretrain_data_loader = get_dataloader(\n",
        "        path=real_data_path,\n",
        "        size=image_size,\n",
        "        batch_size=batch_size,\n",
        "        transforms=get_no_aug_transform(),  # No Augmentation (No resize, No flip)\n",
        "    )\n",
        "\n",
        "    # List to keep track of progress\n",
        "    G_losses = []\n",
        "    iteration = 0\n",
        "\n",
        "    # Retrieve and process the first batch of images\n",
        "    # tracked_images = next(iter(pretrain_data_loader)).to(device)\n",
        "    tracked_images = ImageDataset(real_data_path, transform=get_no_aug_transform())[0]\n",
        "\n",
        "    # DataLoader의 이미지 중 하나를 시각화\n",
        "    img_np = tracked_images.permute(1, 2, 0).numpy()  # CHW to HWC\n",
        "    img_np = np.clip(img_np, 0, 1)  # 데이터를 [0, 1] 범위로 제한\n",
        "    print(img_np.shape)\n",
        "    plt.imshow(img_np)\n",
        "    plt.show()\n",
        "\n",
        "    tracked_images = tracked_images.unsqueeze(0)# (C, H, W) -> (1,C,H,W) 배치차원 추가\n",
        "    tracked_images = tracked_images.to(device)\n",
        "\n",
        "    torchvision.utils.save_image(\n",
        "        unnormalize(tracked_images),\n",
        "        \"/content/drive/MyDrive/GAN/CartoonGAN/pretain_image\",\n",
        "        padding=2,\n",
        "        normalize=True,\n",
        "        scale_each=True,\n",
        "    )\n",
        "\n",
        "    # Models\n",
        "    G = Generator().to(device)\n",
        "    optimizer = optim.AdamW(\n",
        "        G.parameters(), lr=learning_rate, betas=betas, weight_decay=weight_decay\n",
        "    )\n",
        "    content_loss = ContentLoss().to(device)\n",
        "\n",
        "    print(\"Starting Training Loop...\")\n",
        "\n",
        "    # For each epoch\n",
        "    for epoch in range(n_epochs):\n",
        "        # For each batch in the dataloader\n",
        "        for i, real_images in enumerate(\n",
        "            tqdm(pretrain_data_loader, desc=f\"Training Epoch {epoch}\")\n",
        "        ):\n",
        "\n",
        "            ############################\n",
        "            # (1) Pre-train G\n",
        "            ###########################\n",
        "\n",
        "            # Move to device\n",
        "            real_images = real_images.to(device)\n",
        "\n",
        "            # Zero the gradients\n",
        "            optimizer.zero_grad()\n",
        "\n",
        "            # Generate fake images\n",
        "            generated_images = G(real_images)\n",
        "            loss = content_loss(real_images, generated_images)\n",
        "\n",
        "            # Backpropagate\n",
        "            loss.backward()\n",
        "\n",
        "            # Update weights\n",
        "            optimizer.step()\n",
        "\n",
        "            # --------------------------------------------------------------------------------------------------- #\n",
        "\n",
        "            # Save the loss\n",
        "            G_losses.append(loss.item())\n",
        "\n",
        "            if iteration % 100 == 0:\n",
        "\n",
        "                with torch.no_grad():\n",
        "                    fake_images = G(tracked_images).detach().cpu()\n",
        "                print(f\"Epoch: {epoch}, Iteration: {iteration}, Loss: {loss.item()}\")\n",
        "                torchvision.utils.save_image(\n",
        "                    unnormalize(fake_images),\n",
        "                    f\"/content/drive/MyDrive/GAN/CartoonGAN/pretain_image{epoch}_{i}.png\",\n",
        "                    padding=2,\n",
        "                    scale_each=True,\n",
        "                )\n",
        "                torch.save(\n",
        "                    G.state_dict(),\n",
        "                    os.path.join(\n",
        "                        save_pretrained_checkpoints,\n",
        "                        f\"epoch{epoch}_iter{iteration}_loss{loss.item():.3f}.pth\",\n",
        "                    ),\n",
        "                )\n",
        "\n",
        "            iteration += 1\n",
        "\n",
        "        print(f\"Epoch: {epoch}, Loss: {loss.item()}\")\n",
        "\n",
        "    torch.save(\n",
        "        G.state_dict(),\n",
        "        f\"/content/drive/MyDrive/GAN/CartoonGAN/checkpoints/pretrain_G/epoch{epoch}_iter{iteration}_loss{loss.item():.3f}.pth\",\n",
        "    )"
      ]
    },
    {
      "cell_type": "code",
      "execution_count": null,
      "metadata": {
        "colab": {
          "base_uri": "https://localhost:8080/",
          "height": 1000
        },
        "id": "5iesNU4H7GM_",
        "outputId": "72103362-a960-4294-ff98-029b62c2fa8f"
      },
      "outputs": [
        {
          "output_type": "stream",
          "name": "stdout",
          "text": [
            "cuda\n",
            "(256, 256, 3)\n"
          ]
        },
        {
          "output_type": "display_data",
          "data": {
            "text/plain": [
              "<Figure size 640x480 with 1 Axes>"
            ],
            "image/png": "[encoded data removed]"
          },
          "metadata": {}
        },
        {
          "output_type": "stream",
          "name": "stdout",
          "text": [
            "Starting Training Loop...\n"
          ]
        },
        {
          "output_type": "stream",
          "name": "stderr",
          "text": [
            "\rTraining Epoch 0:   0%|          | 0/625 [00:00<?, ?it/s]"
          ]
        },
        {
          "output_type": "stream",
          "name": "stdout",
          "text": [
            "Epoch: 0, Iteration: 0, Loss: 55.448760986328125\n"
          ]
        },
        {
          "output_type": "stream",
          "name": "stderr",
          "text": [
            "Training Epoch 0:  16%|█▌        | 101/625 [08:35<13:23,  1.53s/it]"
          ]
        },
        {
          "output_type": "stream",
          "name": "stdout",
          "text": [
            "Epoch: 0, Iteration: 100, Loss: 34.03832244873047\n"
          ]
        },
        {
          "output_type": "stream",
          "name": "stderr",
          "text": [
            "Training Epoch 0:  32%|███▏      | 201/625 [11:03<10:51,  1.54s/it]"
          ]
        },
        {
          "output_type": "stream",
          "name": "stdout",
          "text": [
            "Epoch: 0, Iteration: 200, Loss: 28.798389434814453\n"
          ]
        },
        {
          "output_type": "stream",
          "name": "stderr",
          "text": [
            "Training Epoch 0:  48%|████▊     | 301/625 [13:32<08:22,  1.55s/it]"
          ]
        },
        {
          "output_type": "stream",
          "name": "stdout",
          "text": [
            "Epoch: 0, Iteration: 300, Loss: 27.289466857910156\n"
          ]
        },
        {
          "output_type": "stream",
          "name": "stderr",
          "text": [
            "Training Epoch 0:  64%|██████▍   | 401/625 [16:01<05:48,  1.56s/it]"
          ]
        },
        {
          "output_type": "stream",
          "name": "stdout",
          "text": [
            "Epoch: 0, Iteration: 400, Loss: 25.451929092407227\n"
          ]
        },
        {
          "output_type": "stream",
          "name": "stderr",
          "text": [
            "Training Epoch 0:  80%|████████  | 500/625 [18:28<03:05,  1.48s/it]"
          ]
        },
        {
          "output_type": "stream",
          "name": "stdout",
          "text": [
            "Epoch: 0, Iteration: 500, Loss: 22.816946029663086\n"
          ]
        },
        {
          "output_type": "stream",
          "name": "stderr",
          "text": [
            "Training Epoch 0:  96%|█████████▌| 600/625 [20:56<00:36,  1.48s/it]"
          ]
        },
        {
          "output_type": "stream",
          "name": "stdout",
          "text": [
            "Epoch: 0, Iteration: 600, Loss: 25.135501861572266\n"
          ]
        },
        {
          "output_type": "stream",
          "name": "stderr",
          "text": [
            "Training Epoch 0: 100%|██████████| 625/625 [21:34<00:00,  2.07s/it]\n"
          ]
        },
        {
          "output_type": "stream",
          "name": "stdout",
          "text": [
            "Epoch: 0, Loss: 22.636749267578125\n"
          ]
        },
        {
          "output_type": "stream",
          "name": "stderr",
          "text": [
            "Training Epoch 1:  12%|█▏        | 76/625 [01:53<13:59,  1.53s/it]"
          ]
        },
        {
          "output_type": "stream",
          "name": "stdout",
          "text": [
            "Epoch: 1, Iteration: 700, Loss: 20.78485679626465\n"
          ]
        },
        {
          "output_type": "stream",
          "name": "stderr",
          "text": [
            "Training Epoch 1:  28%|██▊       | 176/625 [04:21<11:32,  1.54s/it]"
          ]
        },
        {
          "output_type": "stream",
          "name": "stdout",
          "text": [
            "Epoch: 1, Iteration: 800, Loss: 22.683979034423828\n"
          ]
        },
        {
          "output_type": "stream",
          "name": "stderr",
          "text": [
            "Training Epoch 1:  44%|████▍     | 276/625 [06:50<09:00,  1.55s/it]"
          ]
        },
        {
          "output_type": "stream",
          "name": "stdout",
          "text": [
            "Epoch: 1, Iteration: 900, Loss: 24.645652770996094\n"
          ]
        },
        {
          "output_type": "stream",
          "name": "stderr",
          "text": [
            "Training Epoch 1:  60%|██████    | 376/625 [09:19<06:25,  1.55s/it]"
          ]
        },
        {
          "output_type": "stream",
          "name": "stdout",
          "text": [
            "Epoch: 1, Iteration: 1000, Loss: 23.467697143554688\n"
          ]
        },
        {
          "output_type": "stream",
          "name": "stderr",
          "text": [
            "Training Epoch 1:  76%|███████▌  | 475/625 [11:46<03:42,  1.48s/it]"
          ]
        },
        {
          "output_type": "stream",
          "name": "stdout",
          "text": [
            "Epoch: 1, Iteration: 1100, Loss: 18.603782653808594\n"
          ]
        },
        {
          "output_type": "stream",
          "name": "stderr",
          "text": [
            "Training Epoch 1:  92%|█████████▏| 576/625 [14:17<01:15,  1.55s/it]"
          ]
        },
        {
          "output_type": "stream",
          "name": "stdout",
          "text": [
            "Epoch: 1, Iteration: 1200, Loss: 18.985271453857422\n"
          ]
        },
        {
          "output_type": "stream",
          "name": "stderr",
          "text": [
            "Training Epoch 1: 100%|██████████| 625/625 [15:30<00:00,  1.49s/it]\n"
          ]
        },
        {
          "output_type": "stream",
          "name": "stdout",
          "text": [
            "Epoch: 1, Loss: 18.448814392089844\n"
          ]
        },
        {
          "output_type": "stream",
          "name": "stderr",
          "text": [
            "Training Epoch 2:   8%|▊         | 51/625 [01:15<14:45,  1.54s/it]"
          ]
        },
        {
          "output_type": "stream",
          "name": "stdout",
          "text": [
            "Epoch: 2, Iteration: 1300, Loss: 17.079608917236328\n"
          ]
        },
        {
          "output_type": "stream",
          "name": "stderr",
          "text": [
            "Training Epoch 2:  24%|██▍       | 151/625 [03:44<12:14,  1.55s/it]"
          ]
        },
        {
          "output_type": "stream",
          "name": "stdout",
          "text": [
            "Epoch: 2, Iteration: 1400, Loss: 17.624679565429688\n"
          ]
        },
        {
          "output_type": "stream",
          "name": "stderr",
          "text": [
            "Training Epoch 2:  40%|████      | 251/625 [06:14<09:39,  1.55s/it]"
          ]
        },
        {
          "output_type": "stream",
          "name": "stdout",
          "text": [
            "Epoch: 2, Iteration: 1500, Loss: 17.239229202270508\n"
          ]
        },
        {
          "output_type": "stream",
          "name": "stderr",
          "text": [
            "Training Epoch 2:  56%|█████▌    | 351/625 [08:43<07:04,  1.55s/it]"
          ]
        },
        {
          "output_type": "stream",
          "name": "stdout",
          "text": [
            "Epoch: 2, Iteration: 1600, Loss: 16.053279876708984\n"
          ]
        },
        {
          "output_type": "stream",
          "name": "stderr",
          "text": [
            "Training Epoch 2:  72%|███████▏  | 450/625 [11:10<04:19,  1.48s/it]"
          ]
        },
        {
          "output_type": "stream",
          "name": "stdout",
          "text": [
            "Epoch: 2, Iteration: 1700, Loss: 15.833907127380371\n"
          ]
        },
        {
          "output_type": "stream",
          "name": "stderr",
          "text": [
            "Training Epoch 2:  88%|████████▊ | 551/625 [13:40<01:54,  1.54s/it]"
          ]
        },
        {
          "output_type": "stream",
          "name": "stdout",
          "text": [
            "Epoch: 2, Iteration: 1800, Loss: 14.323712348937988\n"
          ]
        },
        {
          "output_type": "stream",
          "name": "stderr",
          "text": [
            "Training Epoch 2: 100%|██████████| 625/625 [15:30<00:00,  1.49s/it]\n"
          ]
        },
        {
          "output_type": "stream",
          "name": "stdout",
          "text": [
            "Epoch: 2, Loss: 15.99937915802002\n"
          ]
        },
        {
          "output_type": "stream",
          "name": "stderr",
          "text": [
            "Training Epoch 3:   4%|▍         | 26/625 [00:38<15:21,  1.54s/it]"
          ]
        },
        {
          "output_type": "stream",
          "name": "stdout",
          "text": [
            "Epoch: 3, Iteration: 1900, Loss: 15.397651672363281\n"
          ]
        },
        {
          "output_type": "stream",
          "name": "stderr",
          "text": [
            "Training Epoch 3:  20%|██        | 126/625 [03:07<12:51,  1.55s/it]"
          ]
        },
        {
          "output_type": "stream",
          "name": "stdout",
          "text": [
            "Epoch: 3, Iteration: 2000, Loss: 14.282575607299805\n"
          ]
        },
        {
          "output_type": "stream",
          "name": "stderr",
          "text": [
            "Training Epoch 3:  36%|███▌      | 226/625 [05:36<10:16,  1.55s/it]"
          ]
        },
        {
          "output_type": "stream",
          "name": "stdout",
          "text": [
            "Epoch: 3, Iteration: 2100, Loss: 13.001701354980469\n"
          ]
        },
        {
          "output_type": "stream",
          "name": "stderr",
          "text": [
            "Training Epoch 3:  52%|█████▏    | 325/625 [08:02<07:26,  1.49s/it]"
          ]
        },
        {
          "output_type": "stream",
          "name": "stdout",
          "text": [
            "Epoch: 3, Iteration: 2200, Loss: 14.455511093139648\n"
          ]
        },
        {
          "output_type": "stream",
          "name": "stderr",
          "text": [
            "Training Epoch 3:  68%|██████▊   | 426/625 [10:33<05:10,  1.56s/it]"
          ]
        },
        {
          "output_type": "stream",
          "name": "stdout",
          "text": [
            "Epoch: 3, Iteration: 2300, Loss: 14.423391342163086\n"
          ]
        },
        {
          "output_type": "stream",
          "name": "stderr",
          "text": [
            "Training Epoch 3:  84%|████████▍ | 526/625 [13:02<02:33,  1.55s/it]"
          ]
        },
        {
          "output_type": "stream",
          "name": "stdout",
          "text": [
            "Epoch: 3, Iteration: 2400, Loss: 14.368459701538086\n"
          ]
        },
        {
          "output_type": "stream",
          "name": "stderr",
          "text": [
            "Training Epoch 3: 100%|██████████| 625/625 [15:29<00:00,  1.49s/it]\n"
          ]
        },
        {
          "output_type": "stream",
          "name": "stdout",
          "text": [
            "Epoch: 3, Loss: 12.480583190917969\n"
          ]
        },
        {
          "output_type": "stream",
          "name": "stderr",
          "text": [
            "Training Epoch 4:   0%|          | 1/625 [00:01<17:30,  1.68s/it]"
          ]
        },
        {
          "output_type": "stream",
          "name": "stdout",
          "text": [
            "Epoch: 4, Iteration: 2500, Loss: 12.973581314086914\n"
          ]
        },
        {
          "output_type": "stream",
          "name": "stderr",
          "text": [
            "Training Epoch 4:  16%|█▌        | 101/625 [02:30<13:29,  1.55s/it]"
          ]
        },
        {
          "output_type": "stream",
          "name": "stdout",
          "text": [
            "Epoch: 4, Iteration: 2600, Loss: 13.885984420776367\n"
          ]
        },
        {
          "output_type": "stream",
          "name": "stderr",
          "text": [
            "Training Epoch 4:  32%|███▏      | 201/625 [04:59<10:58,  1.55s/it]"
          ]
        },
        {
          "output_type": "stream",
          "name": "stdout",
          "text": [
            "Epoch: 4, Iteration: 2700, Loss: 12.1659517288208\n"
          ]
        },
        {
          "output_type": "stream",
          "name": "stderr",
          "text": [
            "Training Epoch 4:  48%|████▊     | 300/625 [07:26<08:05,  1.49s/it]"
          ]
        },
        {
          "output_type": "stream",
          "name": "stdout",
          "text": [
            "Epoch: 4, Iteration: 2800, Loss: 10.801752090454102\n"
          ]
        },
        {
          "output_type": "stream",
          "name": "stderr",
          "text": [
            "Training Epoch 4:  64%|██████▍   | 400/625 [09:55<05:31,  1.47s/it]"
          ]
        },
        {
          "output_type": "stream",
          "name": "stdout",
          "text": [
            "Epoch: 4, Iteration: 2900, Loss: 12.150301933288574\n"
          ]
        },
        {
          "output_type": "stream",
          "name": "stderr",
          "text": [
            "Training Epoch 4:  80%|████████  | 501/625 [12:25<03:11,  1.54s/it]"
          ]
        },
        {
          "output_type": "stream",
          "name": "stdout",
          "text": [
            "Epoch: 4, Iteration: 3000, Loss: 11.355090141296387\n"
          ]
        },
        {
          "output_type": "stream",
          "name": "stderr",
          "text": [
            "Training Epoch 4:  96%|█████████▌| 601/625 [14:53<00:37,  1.56s/it]"
          ]
        },
        {
          "output_type": "stream",
          "name": "stdout",
          "text": [
            "Epoch: 4, Iteration: 3100, Loss: 11.001274108886719\n"
          ]
        },
        {
          "output_type": "stream",
          "name": "stderr",
          "text": [
            "Training Epoch 4: 100%|██████████| 625/625 [15:29<00:00,  1.49s/it]\n"
          ]
        },
        {
          "output_type": "stream",
          "name": "stdout",
          "text": [
            "Epoch: 4, Loss: 11.282825469970703\n"
          ]
        },
        {
          "output_type": "stream",
          "name": "stderr",
          "text": [
            "Training Epoch 5:  12%|█▏        | 76/625 [01:53<14:11,  1.55s/it]"
          ]
        },
        {
          "output_type": "stream",
          "name": "stdout",
          "text": [
            "Epoch: 5, Iteration: 3200, Loss: 11.49874210357666\n"
          ]
        },
        {
          "output_type": "stream",
          "name": "stderr",
          "text": [
            "Training Epoch 5:  28%|██▊       | 175/625 [04:20<11:03,  1.47s/it]"
          ]
        },
        {
          "output_type": "stream",
          "name": "stdout",
          "text": [
            "Epoch: 5, Iteration: 3300, Loss: 12.521583557128906\n"
          ]
        },
        {
          "output_type": "stream",
          "name": "stderr",
          "text": [
            "Training Epoch 5:  44%|████▍     | 275/625 [06:48<08:40,  1.49s/it]"
          ]
        },
        {
          "output_type": "stream",
          "name": "stdout",
          "text": [
            "Epoch: 5, Iteration: 3400, Loss: 10.303117752075195\n"
          ]
        },
        {
          "output_type": "stream",
          "name": "stderr",
          "text": [
            "Training Epoch 5:  60%|██████    | 375/625 [09:16<06:10,  1.48s/it]"
          ]
        },
        {
          "output_type": "stream",
          "name": "stdout",
          "text": [
            "Epoch: 5, Iteration: 3500, Loss: 14.931562423706055\n"
          ]
        },
        {
          "output_type": "stream",
          "name": "stderr",
          "text": [
            "Training Epoch 5:  76%|███████▌  | 476/625 [11:46<03:49,  1.54s/it]"
          ]
        },
        {
          "output_type": "stream",
          "name": "stdout",
          "text": [
            "Epoch: 5, Iteration: 3600, Loss: 11.007932662963867\n"
          ]
        },
        {
          "output_type": "stream",
          "name": "stderr",
          "text": [
            "Training Epoch 5:  92%|█████████▏| 575/625 [14:13<01:14,  1.49s/it]"
          ]
        },
        {
          "output_type": "stream",
          "name": "stdout",
          "text": [
            "Epoch: 5, Iteration: 3700, Loss: 10.65887451171875\n"
          ]
        },
        {
          "output_type": "stream",
          "name": "stderr",
          "text": [
            "Training Epoch 5: 100%|██████████| 625/625 [15:28<00:00,  1.49s/it]\n"
          ]
        },
        {
          "output_type": "stream",
          "name": "stdout",
          "text": [
            "Epoch: 5, Loss: 11.56986141204834\n"
          ]
        },
        {
          "output_type": "stream",
          "name": "stderr",
          "text": [
            "Training Epoch 6:   8%|▊         | 50/625 [01:14<14:09,  1.48s/it]"
          ]
        },
        {
          "output_type": "stream",
          "name": "stdout",
          "text": [
            "Epoch: 6, Iteration: 3800, Loss: 10.88804817199707\n"
          ]
        },
        {
          "output_type": "stream",
          "name": "stderr",
          "text": [
            "Training Epoch 6:  24%|██▍       | 151/625 [03:44<12:09,  1.54s/it]"
          ]
        },
        {
          "output_type": "stream",
          "name": "stdout",
          "text": [
            "Epoch: 6, Iteration: 3900, Loss: 11.684104919433594\n"
          ]
        },
        {
          "output_type": "stream",
          "name": "stderr",
          "text": [
            "Training Epoch 6:  40%|████      | 251/625 [06:12<09:36,  1.54s/it]"
          ]
        },
        {
          "output_type": "stream",
          "name": "stdout",
          "text": [
            "Epoch: 6, Iteration: 4000, Loss: 10.134221076965332\n"
          ]
        },
        {
          "output_type": "stream",
          "name": "stderr",
          "text": [
            "Training Epoch 6:  56%|█████▌    | 351/625 [08:41<07:04,  1.55s/it]"
          ]
        },
        {
          "output_type": "stream",
          "name": "stdout",
          "text": [
            "Epoch: 6, Iteration: 4100, Loss: 9.335967063903809\n"
          ]
        },
        {
          "output_type": "stream",
          "name": "stderr",
          "text": [
            "Training Epoch 6:  72%|███████▏  | 450/625 [11:08<04:20,  1.49s/it]"
          ]
        },
        {
          "output_type": "stream",
          "name": "stdout",
          "text": [
            "Epoch: 6, Iteration: 4200, Loss: 10.27639389038086\n"
          ]
        },
        {
          "output_type": "stream",
          "name": "stderr",
          "text": [
            "Training Epoch 6:  88%|████████▊ | 551/625 [13:39<01:54,  1.55s/it]"
          ]
        },
        {
          "output_type": "stream",
          "name": "stdout",
          "text": [
            "Epoch: 6, Iteration: 4300, Loss: 11.351500511169434\n"
          ]
        },
        {
          "output_type": "stream",
          "name": "stderr",
          "text": [
            "Training Epoch 6: 100%|██████████| 625/625 [15:28<00:00,  1.49s/it]\n"
          ]
        },
        {
          "output_type": "stream",
          "name": "stdout",
          "text": [
            "Epoch: 6, Loss: 9.900840759277344\n"
          ]
        },
        {
          "output_type": "stream",
          "name": "stderr",
          "text": [
            "Training Epoch 7:   4%|▍         | 26/625 [00:38<15:27,  1.55s/it]"
          ]
        },
        {
          "output_type": "stream",
          "name": "stdout",
          "text": [
            "Epoch: 7, Iteration: 4400, Loss: 9.635080337524414\n"
          ]
        },
        {
          "output_type": "stream",
          "name": "stderr",
          "text": [
            "Training Epoch 7:  20%|██        | 126/625 [03:07<12:54,  1.55s/it]"
          ]
        },
        {
          "output_type": "stream",
          "name": "stdout",
          "text": [
            "Epoch: 7, Iteration: 4500, Loss: 11.382527351379395\n"
          ]
        },
        {
          "output_type": "stream",
          "name": "stderr",
          "text": [
            "Training Epoch 7:  36%|███▌      | 225/625 [05:34<09:49,  1.47s/it]"
          ]
        },
        {
          "output_type": "stream",
          "name": "stdout",
          "text": [
            "Epoch: 7, Iteration: 4600, Loss: 10.068090438842773\n"
          ]
        },
        {
          "output_type": "stream",
          "name": "stderr",
          "text": [
            "Training Epoch 7:  52%|█████▏    | 326/625 [08:05<07:41,  1.54s/it]"
          ]
        },
        {
          "output_type": "stream",
          "name": "stdout",
          "text": [
            "Epoch: 7, Iteration: 4700, Loss: 10.62086009979248\n"
          ]
        },
        {
          "output_type": "stream",
          "name": "stderr",
          "text": [
            "Training Epoch 7:  68%|██████▊   | 426/625 [10:33<05:08,  1.55s/it]"
          ]
        },
        {
          "output_type": "stream",
          "name": "stdout",
          "text": [
            "Epoch: 7, Iteration: 4800, Loss: 9.466520309448242\n"
          ]
        },
        {
          "output_type": "stream",
          "name": "stderr",
          "text": [
            "Training Epoch 7:  84%|████████▍ | 526/625 [13:02<02:33,  1.55s/it]"
          ]
        },
        {
          "output_type": "stream",
          "name": "stdout",
          "text": [
            "Epoch: 7, Iteration: 4900, Loss: 9.710077285766602\n"
          ]
        },
        {
          "output_type": "stream",
          "name": "stderr",
          "text": [
            "Training Epoch 7: 100%|██████████| 625/625 [15:29<00:00,  1.49s/it]\n"
          ]
        },
        {
          "output_type": "stream",
          "name": "stdout",
          "text": [
            "Epoch: 7, Loss: 9.405567169189453\n"
          ]
        },
        {
          "output_type": "stream",
          "name": "stderr",
          "text": [
            "Training Epoch 8:   0%|          | 1/625 [00:01<17:20,  1.67s/it]"
          ]
        },
        {
          "output_type": "stream",
          "name": "stdout",
          "text": [
            "Epoch: 8, Iteration: 5000, Loss: 8.980060577392578\n"
          ]
        },
        {
          "output_type": "stream",
          "name": "stderr",
          "text": [
            "Training Epoch 8:  16%|█▌        | 100/625 [02:28<12:53,  1.47s/it]"
          ]
        },
        {
          "output_type": "stream",
          "name": "stdout",
          "text": [
            "Epoch: 8, Iteration: 5100, Loss: 10.13429069519043\n"
          ]
        },
        {
          "output_type": "stream",
          "name": "stderr",
          "text": [
            "Training Epoch 8:  32%|███▏      | 200/625 [04:56<10:24,  1.47s/it]"
          ]
        },
        {
          "output_type": "stream",
          "name": "stdout",
          "text": [
            "Epoch: 8, Iteration: 5200, Loss: 9.613380432128906\n"
          ]
        },
        {
          "output_type": "stream",
          "name": "stderr",
          "text": [
            "Training Epoch 8:  48%|████▊     | 301/625 [07:26<08:21,  1.55s/it]"
          ]
        },
        {
          "output_type": "stream",
          "name": "stdout",
          "text": [
            "Epoch: 8, Iteration: 5300, Loss: 8.209320068359375\n"
          ]
        },
        {
          "output_type": "stream",
          "name": "stderr",
          "text": [
            "Training Epoch 8:  64%|██████▍   | 401/625 [09:55<05:47,  1.55s/it]"
          ]
        },
        {
          "output_type": "stream",
          "name": "stdout",
          "text": [
            "Epoch: 8, Iteration: 5400, Loss: 9.06493091583252\n"
          ]
        },
        {
          "output_type": "stream",
          "name": "stderr",
          "text": [
            "Training Epoch 8:  80%|████████  | 500/625 [12:22<03:05,  1.48s/it]"
          ]
        },
        {
          "output_type": "stream",
          "name": "stdout",
          "text": [
            "Epoch: 8, Iteration: 5500, Loss: 8.859107971191406\n"
          ]
        },
        {
          "output_type": "stream",
          "name": "stderr",
          "text": [
            "Training Epoch 8:  96%|█████████▌| 601/625 [14:52<00:37,  1.54s/it]"
          ]
        },
        {
          "output_type": "stream",
          "name": "stdout",
          "text": [
            "Epoch: 8, Iteration: 5600, Loss: 10.460201263427734\n"
          ]
        },
        {
          "output_type": "stream",
          "name": "stderr",
          "text": [
            "Training Epoch 8: 100%|██████████| 625/625 [15:28<00:00,  1.48s/it]\n"
          ]
        },
        {
          "output_type": "stream",
          "name": "stdout",
          "text": [
            "Epoch: 8, Loss: 9.874723434448242\n"
          ]
        },
        {
          "output_type": "stream",
          "name": "stderr",
          "text": [
            "Training Epoch 9:  12%|█▏        | 75/625 [01:51<13:31,  1.48s/it]"
          ]
        },
        {
          "output_type": "stream",
          "name": "stdout",
          "text": [
            "Epoch: 9, Iteration: 5700, Loss: 9.009005546569824\n"
          ]
        },
        {
          "output_type": "stream",
          "name": "stderr",
          "text": [
            "Training Epoch 9:  28%|██▊       | 176/625 [04:21<11:29,  1.54s/it]"
          ]
        },
        {
          "output_type": "stream",
          "name": "stdout",
          "text": [
            "Epoch: 9, Iteration: 5800, Loss: 9.45547866821289\n"
          ]
        },
        {
          "output_type": "stream",
          "name": "stderr",
          "text": [
            "Training Epoch 9:  44%|████▍     | 276/625 [06:49<08:59,  1.55s/it]"
          ]
        },
        {
          "output_type": "stream",
          "name": "stdout",
          "text": [
            "Epoch: 9, Iteration: 5900, Loss: 8.904485702514648\n"
          ]
        },
        {
          "output_type": "stream",
          "name": "stderr",
          "text": [
            "Training Epoch 9:  60%|██████    | 375/625 [09:16<06:11,  1.49s/it]"
          ]
        },
        {
          "output_type": "stream",
          "name": "stdout",
          "text": [
            "Epoch: 9, Iteration: 6000, Loss: 8.037788391113281\n"
          ]
        },
        {
          "output_type": "stream",
          "name": "stderr",
          "text": [
            "Training Epoch 9:  76%|███████▌  | 476/625 [11:46<03:48,  1.54s/it]"
          ]
        },
        {
          "output_type": "stream",
          "name": "stdout",
          "text": [
            "Epoch: 9, Iteration: 6100, Loss: 10.85191822052002\n"
          ]
        },
        {
          "output_type": "stream",
          "name": "stderr",
          "text": [
            "Training Epoch 9:  92%|█████████▏| 575/625 [14:13<01:14,  1.49s/it]"
          ]
        },
        {
          "output_type": "stream",
          "name": "stdout",
          "text": [
            "Epoch: 9, Iteration: 6200, Loss: 7.581527233123779\n"
          ]
        },
        {
          "output_type": "stream",
          "name": "stderr",
          "text": [
            "Training Epoch 9: 100%|██████████| 625/625 [15:28<00:00,  1.49s/it]"
          ]
        },
        {
          "output_type": "stream",
          "name": "stdout",
          "text": [
            "Epoch: 9, Loss: 8.235135078430176\n"
          ]
        },
        {
          "output_type": "stream",
          "name": "stderr",
          "text": [
            "\n"
          ]
        }
      ],
      "source": [
        "# pretrain()"
      ]
    },
    {
      "cell_type": "markdown",
      "metadata": {
        "id": "GR3VSBcc7GM_"
      },
      "source": [
        "### 7. Training"
      ]
    },
    {
      "cell_type": "markdown",
      "source": [
        "### Adversarial Loss\n",
        "\n",
        "\n",
        "##### Discriminator Update (real -> 1, fake -> 0)\n",
        "\n",
        "* cartoon _images, cartoon_edge_smoothed: Discriminator에 바로 넣어준다.\n",
        "* generated_images (=G(real_images)): Generator가 생성한 이미지를 Discriminator에 넣어준다.\n",
        "\n",
        "* real_cartoon = D(cartoon_images)\n",
        "* fake_cartoon = D(generated_images.detach())\n",
        "* edge_smoothed_cartoon = D(cartoon_edge_smoothed)\n",
        "\n",
        "loss_D = adversarial_loss(real_cartoon, fake_cartoon, edge_smoothed_cartoon)"
      ],
      "metadata": {
        "id": "JNRJxKiEIM-l"
      }
    },
    {
      "cell_type": "markdown",
      "source": [
        "### Content Loss, BCELoss\n",
        "\n",
        "\n",
        "\n",
        "#### Generator update (fake -> 0)\n",
        "\n",
        "* generated_images: 이전에 생성한 generated_images를 Discriminator에 바로 넣어준다.\n",
        "\n",
        "\n",
        "* fake_cartoon = D(generated_images)\n",
        "* loss_G = BCE_loss(fake_cartoon, cartoon_labels) + content_loss(real_images, generated_images)\n",
        "            \n",
        "\n"
      ],
      "metadata": {
        "id": "ABKGSHBKINx2"
      }
    },
    {
      "cell_type": "code",
      "execution_count": null,
      "metadata": {
        "id": "jx8CH56i7GM_"
      },
      "outputs": [],
      "source": [
        "class AdversarialLoss(nn.Module):\n",
        "    def __init__(self, cartoon_labels, fake_labels):\n",
        "        super(AdversarialLoss, self).__init__()\n",
        "        self.cartoon_labels = cartoon_labels # 1\n",
        "        self.fake_labels = fake_labels # 0\n",
        "        self.loss = nn.BCEWithLogitsLoss()\n",
        "\n",
        "    def forward(self, real__cartoon, generated_cartoon, edge_smoothed_cartoon):\n",
        "        cartoon_loss = self.loss(real__cartoon, self.cartoon_labels)\n",
        "        fake_loss = self.loss(generated_cartoon, self.fake_labels)\n",
        "        edge_loss = self.loss(edge_smoothed_cartoon, self.fake_labels)\n",
        "\n",
        "        return cartoon_loss + fake_loss + edge_loss"
      ]
    },
    {
      "cell_type": "markdown",
      "source": [
        "##### 각 Dataloader에 속한 Image의 개수가 모두 같도록 setting"
      ],
      "metadata": {
        "id": "ks8IT9ujQx2J"
      }
    },
    {
      "cell_type": "markdown",
      "source": [
        "2. Disciriminator 성능 높이기 위해서 학습시키기\n",
        "- Generator 가 real image 로 가짜 이미지를 생성함\n",
        "- cartoon image 에 대해 Discriminator 가 판단한 결과&\n",
        "  generate image 에 대해 Discriminator 가 판단한 결과&\n",
        "  cartoon edge smooth 에 대해 Dsicriminator 가 판단한 결과\n",
        "\n",
        "\n",
        "3. Generator 학습시키기\n",
        "- Generator 가 만든 generator image 를  Discriminator 에 나온 결과가 1이 되도록 ( bce loss ) ,\n",
        "- 그리고 real image 와 비슷하도록 학습시킴\n",
        "- 주의 : 여기서 Discriminator 의 가중치는 업데이트 되지않고 , Generator 의 가중치만 업데이트 시킴"
      ],
      "metadata": {
        "id": "AIRtfquqaV41"
      }
    },
    {
      "cell_type": "code",
      "source": [
        "import torch\n",
        "import torch.optim as optim\n",
        "import torch.nn as nn\n",
        "import torchvision\n",
        "import numpy as np\n",
        "import matplotlib.pyplot as plt\n",
        "from tqdm import tqdm\n",
        "import os\n",
        "\n",
        "# Define necessary classes and functions (Discriminator, Generator, ContentLoss, AdversarialLoss, get_dataloader, get_pair_transforms, get_no_aug_transform, ImageDataset) here.\n",
        "\n",
        "def unnormalize(tensor):\n",
        "    return tensor * 0.5 + 0.5\n",
        "\n",
        "def train():\n",
        "    torch.manual_seed(0)\n",
        "    device = torch.device(\"cuda\" if torch.cuda.is_available() else \"cpu\")\n",
        "    print(device)\n",
        "\n",
        "    # Configurations\n",
        "    batch_size = 16\n",
        "    image_size = 256\n",
        "    learning_rate = 1.5e-4\n",
        "    betas = (0.5, 0.999)\n",
        "    weight_decay = 1e-4\n",
        "    epochs = 100\n",
        "\n",
        "    # Models\n",
        "    D = Discriminator().to(device)\n",
        "    G = Generator().to(device)\n",
        "\n",
        "    # Load pretrained G , 모델의 사전상태를 load\n",
        "    # G.load_state_dict(\n",
        "    #     torch.load(\n",
        "    #         \"/content/drive/MyDrive/GAN/CartoonGAN/epoch9_iter6250_loss8.235.pth\"\n",
        "    #     )\n",
        "    # )\n",
        "\n",
        "    # # Load previously saved weights\n",
        "    # start_epoch = 6\n",
        "    # start_iteration = 4000\n",
        "\n",
        "    D.load_state_dict(\n",
        "        torch.load(f\"/content/drive/MyDrive/GAN/CartoonGAN/checkpoints/andersson/trained_netD.pth\")\n",
        "    )\n",
        "    G.load_state_dict(\n",
        "        torch.load(f\"/content/drive/MyDrive/GAN/CartoonGAN/checkpoints/andersson/trained_netG.pth\")\n",
        "    )\n",
        "\n",
        "    # Optimizers\n",
        "    optimizer_D = optim.AdamW(\n",
        "        D.parameters(), lr=learning_rate, betas=betas, weight_decay=weight_decay\n",
        "    )\n",
        "    optimizer_G = optim.AdamW(\n",
        "        G.parameters(), lr=learning_rate, betas=betas, weight_decay=weight_decay\n",
        "    )\n",
        "\n",
        "    # Labels (batch size, 1, heigt, width)\n",
        "    cartoon_labels = torch.ones(batch_size, 1, image_size // 4, image_size // 4).to(device)\n",
        "    fake_labels = torch.zeros(batch_size, 1, image_size // 4, image_size // 4).to(device)\n",
        "\n",
        "    # Losses\n",
        "    content_loss = ContentLoss().to(device)\n",
        "    adversarial_loss = AdversarialLoss(cartoon_labels, fake_labels).to(device)\n",
        "    BCE_loss = nn.BCEWithLogitsLoss().to(device)\n",
        "\n",
        "    # Data Loaders\n",
        "    real_dataloader = get_dataloader(real_data_path, size=image_size, batch_size=batch_size)\n",
        "    cartoon_dataloader = get_dataloader(\n",
        "        cartoon_data_path,\n",
        "        size=image_size,\n",
        "        batch_size=batch_size,\n",
        "        transforms=get_pair_transforms(),\n",
        "    )\n",
        "    cartoon_smoothed_dataloader = get_dataloader(\n",
        "        cartoon_smoothed_data_path,\n",
        "        size=image_size,\n",
        "        batch_size=batch_size,\n",
        "        transforms=get_pair_transforms(),\n",
        "    )\n",
        "\n",
        "    # --------------------------------------------------------------------------------------------------- #\n",
        "    # Training Loop\n",
        "\n",
        "    # List to keep track of progress\n",
        "    D_losses = []\n",
        "    G_losses = []\n",
        "    iteration = start_iteration\n",
        "\n",
        "    # Retrieve and process the first batch of images\n",
        "    tracked_images = ImageDataset(real_data_path, transform=get_no_aug_transform())[\n",
        "        0\n",
        "    ]  # DataLoader의 이미지 중 하나를 시각화\n",
        "\n",
        "    img_np = tracked_images.permute(1, 2, 0).numpy()  # CHW to HWC\n",
        "    img_np = np.clip(img_np, 0, 1)  # 데이터를 [0, 1] 범위로 제한\n",
        "    print(img_np.shape)\n",
        "    plt.imshow(img_np)\n",
        "    plt.show()\n",
        "\n",
        "    tracked_images = tracked_images.unsqueeze(0)\n",
        "    tracked_images = tracked_images.to(device)\n",
        "\n",
        "    # 경로가 존재하지 않으면 생성\n",
        "    os.makedirs(\"/content/drive/MyDrive/GAN/CartoonGAN/train_images\", exist_ok=True)\n",
        "\n",
        "    torchvision.utils.save_image(\n",
        "        unnormalize(tracked_images),\n",
        "        \"/content/drive/MyDrive/GAN/CartoonGAN/train_images/original.png\",\n",
        "        padding=2,\n",
        "        normalize=True,\n",
        "        scale_each=True,\n",
        "    )\n",
        "\n",
        "    print(\"Starting Training Loop...\")\n",
        "    # For each epoch\n",
        "    for epoch in range(start_epoch, epochs):\n",
        "        print(\"training epoch: \", epoch)\n",
        "        # For each batch in the dataloader\n",
        "        for i, (real_images, cartoon_images, cartoon_edge_smoothed) in enumerate(\n",
        "            tqdm(zip(real_dataloader, cartoon_dataloader, cartoon_smoothed_dataloader), total=(len(real_dataloader.dataset) // batch_size) , desc=f\"Training Epoch {epoch}\")\n",
        "        ):\n",
        "\n",
        "            ############################\n",
        "            # (1) Update D network: maximize log(D(x)) + log(1 - D(G(z)))\n",
        "            ###########################\n",
        "\n",
        "            # Move to device\n",
        "            real_images = real_images.to(device)\n",
        "            cartoon_images = cartoon_images.to(device)\n",
        "            cartoon_edge_smoothed = cartoon_edge_smoothed.to(device)\n",
        "\n",
        "            # Zero the gradients\n",
        "            optimizer_D.zero_grad() # Discriminator 기울기 초기화\n",
        "            for param in D.parameters():\n",
        "                param.requires_grad = True # 기울기 업데이트 o\n",
        "\n",
        "            # Generate fake images\n",
        "            generated_images = G(real_images)\n",
        "\n",
        "            # Real Cartoon Loss\n",
        "            real_cartoon = D(cartoon_images)\n",
        "            fake_cartoon = D(generated_images.detach())\n",
        "            edge_smoothed_cartoon = D(cartoon_edge_smoothed)\n",
        "\n",
        "            loss_D = adversarial_loss(real_cartoon, fake_cartoon, edge_smoothed_cartoon)\n",
        "            loss_D.backward() # 기울기 계산\n",
        "            optimizer_D.step() # 가중치 업데이트\n",
        "\n",
        "            ############################\n",
        "            # (2) Update G network: maximize log(D(G(z)))\n",
        "            ###########################\n",
        "\n",
        "            # Zero the gradients\n",
        "            optimizer_G.zero_grad()\n",
        "            for param in D.parameters(): # Discriminator 의 파라미터가 변경되지 않도록 함\n",
        "                param.requires_grad = False\n",
        "\n",
        "            # Since we just updated D, perform another forward pass of all-fake batch through D\n",
        "            fake_cartoon = D(generated_images)\n",
        "\n",
        "            # Calculate G's loss based on this output , generate image 가 1로 분류되도록 , 두 이미지가 얼마나 유사한지를 판단\n",
        "            loss_G = BCE_loss(fake_cartoon, cartoon_labels) + content_loss(\n",
        "                real_images, generated_images\n",
        "            )\n",
        "\n",
        "            # Calculate gradients for G\n",
        "            loss_G.backward() # Generator 기울기 계산\n",
        "            optimizer_G.step() # Generator 가중치 업데이트\n",
        "\n",
        "            # --------------------------------------------------------------------------------------------------- #\n",
        "\n",
        "            # Save the loss\n",
        "            D_losses.append(loss_D.item())\n",
        "            G_losses.append(loss_G.item())\n",
        "\n",
        "            if iteration % 200 == 0:\n",
        "\n",
        "                with torch.no_grad():\n",
        "                    fake_images = G(tracked_images).detach().cpu()\n",
        "                print(f\"Epoch: {epoch}, Iteration: {iteration}, Loss: {loss_G.item()}\")\n",
        "                torchvision.utils.save_image(\n",
        "                    unnormalize(fake_images),\n",
        "                    f\"/content/drive/MyDrive/GAN/CartoonGAN/train_images/{epoch}_{i}.png\",\n",
        "                    padding=2,\n",
        "                    scale_each=True,\n",
        "                )\n",
        "                D_losses = []\n",
        "                G_losses = []\n",
        "\n",
        "            if iteration % 1000 == 0:\n",
        "                # 경로가 존재하지 않으면 생성\n",
        "                os.makedirs(\"/content/drive/MyDrive/GAN/CartoonGAN/checkpoints/train_D_G\", exist_ok=True)\n",
        "                torch.save(\n",
        "                    G.state_dict(),\n",
        "                    f\"/content/drive/MyDrive/GAN/CartoonGAN/checkpoints/train_D_G/G_epoch{epoch}_iter{iteration}_loss{loss_G.item():.3f}.pth\",\n",
        "                )\n",
        "                torch.save(\n",
        "                    D.state_dict(),\n",
        "                    f\"/content/drive/MyDrive/GAN/CartoonGAN/checkpoints/train_D_G/D_epoch{epoch}_iter{iteration}_loss{loss_D.item():.3f}.pth\",\n",
        "                )\n",
        "\n",
        "            iteration += 1\n",
        "\n",
        "    torch.save(\n",
        "        G.state_dict(),\n",
        "        f\"/content/drive/MyDrive/GAN/CartoonGAN/checkpoints/train_D_G/G_final.pth\",\n",
        "    )\n",
        "    torch.save(\n",
        "        D.state_dict(),\n",
        "        f\"/content/drive/MyDrive/GAN/CartoonGAN/checkpoints/train_D_G/D_final.pth\",\n",
        "    )\n"
      ],
      "metadata": {
        "id": "6N0yqruyYR25"
      },
      "execution_count": null,
      "outputs": []
    },
    {
      "cell_type": "code",
      "execution_count": null,
      "metadata": {
        "colab": {
          "base_uri": "https://localhost:8080/",
          "height": 1000
        },
        "id": "7FETwQnf7GNA",
        "outputId": "91ea4ebc-1e2b-40c1-ed36-ab4ea09b3724"
      },
      "outputs": [
        {
          "output_type": "stream",
          "name": "stdout",
          "text": [
            "cuda\n",
            "(256, 256, 3)\n"
          ]
        },
        {
          "output_type": "display_data",
          "data": {
            "text/plain": [
              "<Figure size 640x480 with 1 Axes>"
            ],
            "image/png": "[encoded data removed]"
          },
          "metadata": {}
        },
        {
          "output_type": "stream",
          "name": "stdout",
          "text": [
            "Starting Training Loop...\n",
            "training epoch:  6\n"
          ]
        },
        {
          "output_type": "stream",
          "name": "stderr",
          "text": [
            "\rTraining Epoch 6:   0%|          | 0/625 [00:00<?, ?it/s]"
          ]
        },
        {
          "output_type": "stream",
          "name": "stdout",
          "text": [
            "Epoch: 6, Iteration: 4000, Loss: 7.779454231262207\n"
          ]
        },
        {
          "output_type": "stream",
          "name": "stderr",
          "text": [
            "Training Epoch 6:  32%|███▏      | 201/625 [06:18<13:22,  1.89s/it]"
          ]
        },
        {
          "output_type": "stream",
          "name": "stdout",
          "text": [
            "Epoch: 6, Iteration: 4200, Loss: 7.613955974578857\n"
          ]
        },
        {
          "output_type": "stream",
          "name": "stderr",
          "text": [
            "Training Epoch 6:  64%|██████▍   | 401/625 [12:33<07:04,  1.89s/it]"
          ]
        },
        {
          "output_type": "stream",
          "name": "stdout",
          "text": [
            "Epoch: 6, Iteration: 4400, Loss: 6.279873847961426\n"
          ]
        },
        {
          "output_type": "stream",
          "name": "stderr",
          "text": [
            "Training Epoch 6:  96%|█████████▌| 601/625 [18:48<00:45,  1.89s/it]"
          ]
        },
        {
          "output_type": "stream",
          "name": "stdout",
          "text": [
            "Epoch: 6, Iteration: 4600, Loss: 6.493478298187256\n"
          ]
        },
        {
          "output_type": "stream",
          "name": "stderr",
          "text": [
            "Training Epoch 6:  98%|█████████▊| 611/625 [19:06<00:26,  1.88s/it]\n"
          ]
        },
        {
          "output_type": "stream",
          "name": "stdout",
          "text": [
            "training epoch:  7\n"
          ]
        },
        {
          "output_type": "stream",
          "name": "stderr",
          "text": [
            "Training Epoch 7:  30%|███       | 190/625 [05:56<13:44,  1.89s/it]"
          ]
        },
        {
          "output_type": "stream",
          "name": "stdout",
          "text": [
            "Epoch: 7, Iteration: 4800, Loss: 7.0139312744140625\n"
          ]
        },
        {
          "output_type": "stream",
          "name": "stderr",
          "text": [
            "Training Epoch 7:  62%|██████▏   | 390/625 [12:10<07:32,  1.92s/it]"
          ]
        },
        {
          "output_type": "stream",
          "name": "stdout",
          "text": [
            "Epoch: 7, Iteration: 5000, Loss: 7.175626754760742\n"
          ]
        },
        {
          "output_type": "stream",
          "name": "stderr",
          "text": [
            "Training Epoch 7:  94%|█████████▍| 590/625 [18:25<01:06,  1.89s/it]"
          ]
        },
        {
          "output_type": "stream",
          "name": "stdout",
          "text": [
            "Epoch: 7, Iteration: 5200, Loss: 6.500555038452148\n"
          ]
        },
        {
          "output_type": "stream",
          "name": "stderr",
          "text": [
            "Training Epoch 7:  98%|█████████▊| 611/625 [19:05<00:26,  1.87s/it]\n"
          ]
        },
        {
          "output_type": "stream",
          "name": "stdout",
          "text": [
            "training epoch:  8\n"
          ]
        },
        {
          "output_type": "stream",
          "name": "stderr",
          "text": [
            "Training Epoch 8:  29%|██▊       | 179/625 [05:35<14:02,  1.89s/it]"
          ]
        },
        {
          "output_type": "stream",
          "name": "stdout",
          "text": [
            "Epoch: 8, Iteration: 5400, Loss: 6.6662397384643555\n"
          ]
        },
        {
          "output_type": "stream",
          "name": "stderr",
          "text": [
            "Training Epoch 8:  61%|██████    | 379/625 [11:50<07:46,  1.90s/it]"
          ]
        },
        {
          "output_type": "stream",
          "name": "stdout",
          "text": [
            "Epoch: 8, Iteration: 5600, Loss: 7.033718585968018\n"
          ]
        },
        {
          "output_type": "stream",
          "name": "stderr",
          "text": [
            "Training Epoch 8:  93%|█████████▎| 579/625 [18:05<01:27,  1.91s/it]"
          ]
        },
        {
          "output_type": "stream",
          "name": "stdout",
          "text": [
            "Epoch: 8, Iteration: 5800, Loss: 5.90203857421875\n"
          ]
        },
        {
          "output_type": "stream",
          "name": "stderr",
          "text": [
            "Training Epoch 8:  98%|█████████▊| 611/625 [19:05<00:26,  1.87s/it]\n"
          ]
        },
        {
          "output_type": "stream",
          "name": "stdout",
          "text": [
            "training epoch:  9\n"
          ]
        },
        {
          "output_type": "stream",
          "name": "stderr",
          "text": [
            "Training Epoch 9:  27%|██▋       | 167/625 [05:12<14:14,  1.87s/it]"
          ]
        },
        {
          "output_type": "stream",
          "name": "stdout",
          "text": [
            "Epoch: 9, Iteration: 6000, Loss: 6.156786918640137\n"
          ]
        },
        {
          "output_type": "stream",
          "name": "stderr",
          "text": [
            "Training Epoch 9:  59%|█████▉    | 368/625 [11:30<08:08,  1.90s/it]"
          ]
        },
        {
          "output_type": "stream",
          "name": "stdout",
          "text": [
            "Epoch: 9, Iteration: 6200, Loss: 7.126438140869141\n"
          ]
        },
        {
          "output_type": "stream",
          "name": "stderr",
          "text": [
            "Training Epoch 9:  91%|█████████ | 568/625 [17:44<01:47,  1.89s/it]"
          ]
        },
        {
          "output_type": "stream",
          "name": "stdout",
          "text": [
            "Epoch: 9, Iteration: 6400, Loss: 6.2696027755737305\n"
          ]
        },
        {
          "output_type": "stream",
          "name": "stderr",
          "text": [
            "Training Epoch 9:  98%|█████████▊| 611/625 [19:05<00:26,  1.87s/it]\n"
          ]
        },
        {
          "output_type": "stream",
          "name": "stdout",
          "text": [
            "training epoch:  10\n"
          ]
        },
        {
          "output_type": "stream",
          "name": "stderr",
          "text": [
            "Training Epoch 10:  25%|██▌       | 157/625 [04:54<14:47,  1.90s/it]"
          ]
        },
        {
          "output_type": "stream",
          "name": "stdout",
          "text": [
            "Epoch: 10, Iteration: 6600, Loss: 7.26952600479126\n"
          ]
        },
        {
          "output_type": "stream",
          "name": "stderr",
          "text": [
            "Training Epoch 10:  57%|█████▋    | 357/625 [11:08<08:25,  1.89s/it]"
          ]
        },
        {
          "output_type": "stream",
          "name": "stdout",
          "text": [
            "Epoch: 10, Iteration: 6800, Loss: 6.656375408172607\n"
          ]
        },
        {
          "output_type": "stream",
          "name": "stderr",
          "text": [
            "Training Epoch 10:  89%|████████▉ | 556/625 [17:21<02:09,  1.87s/it]"
          ]
        },
        {
          "output_type": "stream",
          "name": "stdout",
          "text": [
            "Epoch: 10, Iteration: 7000, Loss: 7.063556671142578\n"
          ]
        },
        {
          "output_type": "stream",
          "name": "stderr",
          "text": [
            "Training Epoch 10:  98%|█████████▊| 611/625 [19:05<00:26,  1.87s/it]\n"
          ]
        },
        {
          "output_type": "stream",
          "name": "stdout",
          "text": [
            "training epoch:  11\n"
          ]
        },
        {
          "output_type": "stream",
          "name": "stderr",
          "text": [
            "Training Epoch 11:  23%|██▎       | 146/625 [04:33<15:14,  1.91s/it]"
          ]
        },
        {
          "output_type": "stream",
          "name": "stdout",
          "text": [
            "Epoch: 11, Iteration: 7200, Loss: 5.997176647186279\n"
          ]
        },
        {
          "output_type": "stream",
          "name": "stderr",
          "text": [
            "Training Epoch 11:  55%|█████▌    | 346/625 [10:49<08:52,  1.91s/it]"
          ]
        },
        {
          "output_type": "stream",
          "name": "stdout",
          "text": [
            "Epoch: 11, Iteration: 7400, Loss: 6.773879051208496\n"
          ]
        },
        {
          "output_type": "stream",
          "name": "stderr",
          "text": [
            "Training Epoch 11:  87%|████████▋ | 546/625 [17:04<02:30,  1.90s/it]"
          ]
        },
        {
          "output_type": "stream",
          "name": "stdout",
          "text": [
            "Epoch: 11, Iteration: 7600, Loss: 6.682547569274902\n"
          ]
        },
        {
          "output_type": "stream",
          "name": "stderr",
          "text": [
            "Training Epoch 11:  98%|█████████▊| 611/625 [19:06<00:26,  1.88s/it]\n"
          ]
        },
        {
          "output_type": "stream",
          "name": "stdout",
          "text": [
            "training epoch:  12\n"
          ]
        },
        {
          "output_type": "stream",
          "name": "stderr",
          "text": [
            "Training Epoch 12:  22%|██▏       | 135/625 [04:12<15:23,  1.89s/it]"
          ]
        },
        {
          "output_type": "stream",
          "name": "stdout",
          "text": [
            "Epoch: 12, Iteration: 7800, Loss: 8.03518009185791\n"
          ]
        },
        {
          "output_type": "stream",
          "name": "stderr",
          "text": [
            "Training Epoch 12:  54%|█████▎    | 335/625 [10:27<09:25,  1.95s/it]"
          ]
        },
        {
          "output_type": "stream",
          "name": "stdout",
          "text": [
            "Epoch: 12, Iteration: 8000, Loss: 7.418841361999512\n"
          ]
        },
        {
          "output_type": "stream",
          "name": "stderr",
          "text": [
            "Training Epoch 12:  86%|████████▌ | 535/625 [16:41<02:50,  1.89s/it]"
          ]
        },
        {
          "output_type": "stream",
          "name": "stdout",
          "text": [
            "Epoch: 12, Iteration: 8200, Loss: 6.319355010986328\n"
          ]
        },
        {
          "output_type": "stream",
          "name": "stderr",
          "text": [
            "Training Epoch 12:  98%|█████████▊| 611/625 [19:03<00:26,  1.87s/it]\n"
          ]
        },
        {
          "output_type": "stream",
          "name": "stdout",
          "text": [
            "training epoch:  13\n"
          ]
        },
        {
          "output_type": "stream",
          "name": "stderr",
          "text": [
            "Training Epoch 13:  20%|█▉        | 124/625 [03:52<15:43,  1.88s/it]"
          ]
        },
        {
          "output_type": "stream",
          "name": "stdout",
          "text": [
            "Epoch: 13, Iteration: 8400, Loss: 7.01708984375\n"
          ]
        },
        {
          "output_type": "stream",
          "name": "stderr",
          "text": [
            "Training Epoch 13:  52%|█████▏    | 324/625 [10:06<09:30,  1.89s/it]"
          ]
        },
        {
          "output_type": "stream",
          "name": "stdout",
          "text": [
            "Epoch: 13, Iteration: 8600, Loss: 6.1666975021362305\n"
          ]
        },
        {
          "output_type": "stream",
          "name": "stderr",
          "text": [
            "Training Epoch 13:  84%|████████▍ | 524/625 [16:21<03:10,  1.89s/it]"
          ]
        },
        {
          "output_type": "stream",
          "name": "stdout",
          "text": [
            "Epoch: 13, Iteration: 8800, Loss: 6.4555888175964355\n"
          ]
        },
        {
          "output_type": "stream",
          "name": "stderr",
          "text": [
            "Training Epoch 13:  98%|█████████▊| 611/625 [19:04<00:26,  1.87s/it]\n"
          ]
        },
        {
          "output_type": "stream",
          "name": "stdout",
          "text": [
            "training epoch:  14\n"
          ]
        },
        {
          "output_type": "stream",
          "name": "stderr",
          "text": [
            "Training Epoch 14:  18%|█▊        | 113/625 [03:32<16:37,  1.95s/it]"
          ]
        },
        {
          "output_type": "stream",
          "name": "stdout",
          "text": [
            "Epoch: 14, Iteration: 9000, Loss: 6.9722113609313965\n"
          ]
        },
        {
          "output_type": "stream",
          "name": "stderr",
          "text": [
            "Training Epoch 14:  50%|█████     | 313/625 [09:47<09:49,  1.89s/it]"
          ]
        },
        {
          "output_type": "stream",
          "name": "stdout",
          "text": [
            "Epoch: 14, Iteration: 9200, Loss: 6.086856842041016\n"
          ]
        },
        {
          "output_type": "stream",
          "name": "stderr",
          "text": [
            "Training Epoch 14:  82%|████████▏ | 513/625 [16:03<03:33,  1.90s/it]"
          ]
        },
        {
          "output_type": "stream",
          "name": "stdout",
          "text": [
            "Epoch: 14, Iteration: 9400, Loss: 6.453419208526611\n"
          ]
        },
        {
          "output_type": "stream",
          "name": "stderr",
          "text": [
            "Training Epoch 14:  98%|█████████▊| 611/625 [19:06<00:26,  1.88s/it]\n"
          ]
        },
        {
          "output_type": "stream",
          "name": "stdout",
          "text": [
            "training epoch:  15\n"
          ]
        },
        {
          "output_type": "stream",
          "name": "stderr",
          "text": [
            "Training Epoch 15:  16%|█▋        | 102/625 [03:11<16:34,  1.90s/it]"
          ]
        },
        {
          "output_type": "stream",
          "name": "stdout",
          "text": [
            "Epoch: 15, Iteration: 9600, Loss: 6.041808128356934\n"
          ]
        },
        {
          "output_type": "stream",
          "name": "stderr",
          "text": [
            "Training Epoch 15:  48%|████▊     | 302/625 [09:26<10:14,  1.90s/it]"
          ]
        },
        {
          "output_type": "stream",
          "name": "stdout",
          "text": [
            "Epoch: 15, Iteration: 9800, Loss: 5.87227725982666\n"
          ]
        },
        {
          "output_type": "stream",
          "name": "stderr",
          "text": [
            "Training Epoch 15:  80%|████████  | 501/625 [15:39<03:51,  1.87s/it]"
          ]
        },
        {
          "output_type": "stream",
          "name": "stdout",
          "text": [
            "Epoch: 15, Iteration: 10000, Loss: 5.978744983673096\n"
          ]
        },
        {
          "output_type": "stream",
          "name": "stderr",
          "text": [
            "Training Epoch 15:  98%|█████████▊| 611/625 [19:06<00:26,  1.88s/it]\n"
          ]
        },
        {
          "output_type": "stream",
          "name": "stdout",
          "text": [
            "training epoch:  16\n"
          ]
        },
        {
          "output_type": "stream",
          "name": "stderr",
          "text": [
            "Training Epoch 16:  15%|█▍        | 91/625 [02:50<16:49,  1.89s/it]"
          ]
        },
        {
          "output_type": "stream",
          "name": "stdout",
          "text": [
            "Epoch: 16, Iteration: 10200, Loss: 5.932950019836426\n"
          ]
        },
        {
          "output_type": "stream",
          "name": "stderr",
          "text": [
            "Training Epoch 16:  47%|████▋     | 291/625 [09:05<10:32,  1.89s/it]"
          ]
        },
        {
          "output_type": "stream",
          "name": "stdout",
          "text": [
            "Epoch: 16, Iteration: 10400, Loss: 6.315702438354492\n"
          ]
        },
        {
          "output_type": "stream",
          "name": "stderr",
          "text": [
            "Training Epoch 16:  79%|███████▊  | 491/625 [15:20<04:13,  1.89s/it]"
          ]
        },
        {
          "output_type": "stream",
          "name": "stdout",
          "text": [
            "Epoch: 16, Iteration: 10600, Loss: 5.699733257293701\n"
          ]
        },
        {
          "output_type": "stream",
          "name": "stderr",
          "text": [
            "Training Epoch 16:  98%|█████████▊| 611/625 [19:06<00:26,  1.88s/it]\n"
          ]
        },
        {
          "output_type": "stream",
          "name": "stdout",
          "text": [
            "training epoch:  17\n"
          ]
        },
        {
          "output_type": "stream",
          "name": "stderr",
          "text": [
            "Training Epoch 17:  13%|█▎        | 80/625 [02:30<17:10,  1.89s/it]"
          ]
        },
        {
          "output_type": "stream",
          "name": "stdout",
          "text": [
            "Epoch: 17, Iteration: 10800, Loss: 6.547213554382324\n"
          ]
        },
        {
          "output_type": "stream",
          "name": "stderr",
          "text": [
            "Training Epoch 17:  45%|████▍     | 280/625 [08:46<11:12,  1.95s/it]"
          ]
        },
        {
          "output_type": "stream",
          "name": "stdout",
          "text": [
            "Epoch: 17, Iteration: 11000, Loss: 6.3981428146362305\n"
          ]
        },
        {
          "output_type": "stream",
          "name": "stderr",
          "text": [
            "Training Epoch 17:  77%|███████▋  | 480/625 [15:01<04:36,  1.90s/it]"
          ]
        },
        {
          "output_type": "stream",
          "name": "stdout",
          "text": [
            "Epoch: 17, Iteration: 11200, Loss: 5.890651226043701\n"
          ]
        },
        {
          "output_type": "stream",
          "name": "stderr",
          "text": [
            "Training Epoch 17:  98%|█████████▊| 611/625 [19:07<00:26,  1.88s/it]\n"
          ]
        },
        {
          "output_type": "stream",
          "name": "stdout",
          "text": [
            "training epoch:  18\n"
          ]
        },
        {
          "output_type": "stream",
          "name": "stderr",
          "text": [
            "Training Epoch 18:  11%|█         | 69/625 [02:09<17:40,  1.91s/it]"
          ]
        },
        {
          "output_type": "stream",
          "name": "stdout",
          "text": [
            "Epoch: 18, Iteration: 11400, Loss: 5.946530342102051\n"
          ]
        },
        {
          "output_type": "stream",
          "name": "stderr",
          "text": [
            "Training Epoch 18:  43%|████▎     | 269/625 [08:25<11:13,  1.89s/it]"
          ]
        },
        {
          "output_type": "stream",
          "name": "stdout",
          "text": [
            "Epoch: 18, Iteration: 11600, Loss: 6.123950958251953\n"
          ]
        },
        {
          "output_type": "stream",
          "name": "stderr",
          "text": [
            "Training Epoch 18:  75%|███████▌  | 469/625 [14:40<04:53,  1.88s/it]"
          ]
        },
        {
          "output_type": "stream",
          "name": "stdout",
          "text": [
            "Epoch: 18, Iteration: 11800, Loss: 6.185913562774658\n"
          ]
        },
        {
          "output_type": "stream",
          "name": "stderr",
          "text": [
            "Training Epoch 18:  98%|█████████▊| 611/625 [19:07<00:26,  1.88s/it]\n"
          ]
        },
        {
          "output_type": "stream",
          "name": "stdout",
          "text": [
            "training epoch:  19\n"
          ]
        },
        {
          "output_type": "stream",
          "name": "stderr",
          "text": [
            "Training Epoch 19:   9%|▉         | 58/625 [01:49<18:19,  1.94s/it]"
          ]
        },
        {
          "output_type": "stream",
          "name": "stdout",
          "text": [
            "Epoch: 19, Iteration: 12000, Loss: 5.600531578063965\n"
          ]
        },
        {
          "output_type": "stream",
          "name": "stderr",
          "text": [
            "Training Epoch 19:  41%|████▏     | 258/625 [08:04<11:34,  1.89s/it]"
          ]
        },
        {
          "output_type": "stream",
          "name": "stdout",
          "text": [
            "Epoch: 19, Iteration: 12200, Loss: 6.469805717468262\n"
          ]
        },
        {
          "output_type": "stream",
          "name": "stderr",
          "text": [
            "Training Epoch 19:  73%|███████▎  | 458/625 [14:19<05:17,  1.90s/it]"
          ]
        },
        {
          "output_type": "stream",
          "name": "stdout",
          "text": [
            "Epoch: 19, Iteration: 12400, Loss: 5.717430591583252\n"
          ]
        },
        {
          "output_type": "stream",
          "name": "stderr",
          "text": [
            "Training Epoch 19:  98%|█████████▊| 611/625 [19:06<00:26,  1.88s/it]\n"
          ]
        },
        {
          "output_type": "stream",
          "name": "stdout",
          "text": [
            "training epoch:  20\n"
          ]
        },
        {
          "output_type": "stream",
          "name": "stderr",
          "text": [
            "Training Epoch 20:   8%|▊         | 47/625 [01:28<18:11,  1.89s/it]"
          ]
        },
        {
          "output_type": "stream",
          "name": "stdout",
          "text": [
            "Epoch: 20, Iteration: 12600, Loss: 5.760956287384033\n"
          ]
        },
        {
          "output_type": "stream",
          "name": "stderr",
          "text": [
            "Training Epoch 20:  40%|███▉      | 247/625 [07:43<11:54,  1.89s/it]"
          ]
        },
        {
          "output_type": "stream",
          "name": "stdout",
          "text": [
            "Epoch: 20, Iteration: 12800, Loss: 5.954568862915039\n"
          ]
        },
        {
          "output_type": "stream",
          "name": "stderr",
          "text": [
            "Training Epoch 20:  72%|███████▏  | 447/625 [13:58<05:46,  1.95s/it]"
          ]
        },
        {
          "output_type": "stream",
          "name": "stdout",
          "text": [
            "Epoch: 20, Iteration: 13000, Loss: 5.933431625366211\n"
          ]
        },
        {
          "output_type": "stream",
          "name": "stderr",
          "text": [
            "Training Epoch 20:  98%|█████████▊| 611/625 [19:06<00:26,  1.88s/it]\n"
          ]
        },
        {
          "output_type": "stream",
          "name": "stdout",
          "text": [
            "training epoch:  21\n"
          ]
        },
        {
          "output_type": "stream",
          "name": "stderr",
          "text": [
            "Training Epoch 21:   6%|▌         | 36/625 [01:07<18:43,  1.91s/it]"
          ]
        },
        {
          "output_type": "stream",
          "name": "stdout",
          "text": [
            "Epoch: 21, Iteration: 13200, Loss: 6.0237555503845215\n"
          ]
        },
        {
          "output_type": "stream",
          "name": "stderr",
          "text": [
            "Training Epoch 21:  38%|███▊      | 236/625 [07:22<12:17,  1.90s/it]"
          ]
        },
        {
          "output_type": "stream",
          "name": "stdout",
          "text": [
            "Epoch: 21, Iteration: 13400, Loss: 5.49382209777832\n"
          ]
        },
        {
          "output_type": "stream",
          "name": "stderr",
          "text": [
            "Training Epoch 21:  70%|██████▉   | 436/625 [13:37<05:56,  1.89s/it]"
          ]
        },
        {
          "output_type": "stream",
          "name": "stdout",
          "text": [
            "Epoch: 21, Iteration: 13600, Loss: 6.681712627410889\n"
          ]
        },
        {
          "output_type": "stream",
          "name": "stderr",
          "text": [
            "Training Epoch 21:  98%|█████████▊| 611/625 [19:05<00:26,  1.88s/it]\n"
          ]
        },
        {
          "output_type": "stream",
          "name": "stdout",
          "text": [
            "training epoch:  22\n"
          ]
        },
        {
          "output_type": "stream",
          "name": "stderr",
          "text": [
            "Training Epoch 22:   4%|▍         | 25/625 [00:46<18:53,  1.89s/it]"
          ]
        },
        {
          "output_type": "stream",
          "name": "stdout",
          "text": [
            "Epoch: 22, Iteration: 13800, Loss: 5.394105911254883\n"
          ]
        },
        {
          "output_type": "stream",
          "name": "stderr",
          "text": [
            "Training Epoch 22:  36%|███▌      | 224/625 [06:59<12:27,  1.87s/it]"
          ]
        },
        {
          "output_type": "stream",
          "name": "stdout",
          "text": [
            "Epoch: 22, Iteration: 14000, Loss: 6.240472793579102\n"
          ]
        },
        {
          "output_type": "stream",
          "name": "stderr",
          "text": [
            "Training Epoch 22:  68%|██████▊   | 425/625 [13:17<06:23,  1.92s/it]"
          ]
        },
        {
          "output_type": "stream",
          "name": "stdout",
          "text": [
            "Epoch: 22, Iteration: 14200, Loss: 5.428651809692383\n"
          ]
        },
        {
          "output_type": "stream",
          "name": "stderr",
          "text": [
            "Training Epoch 22:  98%|█████████▊| 611/625 [19:05<00:26,  1.87s/it]\n"
          ]
        },
        {
          "output_type": "stream",
          "name": "stdout",
          "text": [
            "training epoch:  23\n"
          ]
        },
        {
          "output_type": "stream",
          "name": "stderr",
          "text": [
            "Training Epoch 23:   2%|▏         | 14/625 [00:26<19:25,  1.91s/it]"
          ]
        },
        {
          "output_type": "stream",
          "name": "stdout",
          "text": [
            "Epoch: 23, Iteration: 14400, Loss: 5.771476745605469\n"
          ]
        },
        {
          "output_type": "stream",
          "name": "stderr",
          "text": [
            "Training Epoch 23:  34%|███▍      | 214/625 [06:41<12:54,  1.88s/it]"
          ]
        },
        {
          "output_type": "stream",
          "name": "stdout",
          "text": [
            "Epoch: 23, Iteration: 14600, Loss: 6.03269100189209\n"
          ]
        },
        {
          "output_type": "stream",
          "name": "stderr",
          "text": [
            "Training Epoch 23:  66%|██████▌   | 414/625 [12:57<06:38,  1.89s/it]"
          ]
        },
        {
          "output_type": "stream",
          "name": "stdout",
          "text": [
            "Epoch: 23, Iteration: 14800, Loss: 5.688670635223389\n"
          ]
        },
        {
          "output_type": "stream",
          "name": "stderr",
          "text": [
            "Training Epoch 23:  98%|█████████▊| 611/625 [19:06<00:26,  1.88s/it]\n"
          ]
        },
        {
          "output_type": "stream",
          "name": "stdout",
          "text": [
            "training epoch:  24\n"
          ]
        },
        {
          "output_type": "stream",
          "name": "stderr",
          "text": [
            "Training Epoch 24:   0%|          | 3/625 [00:05<20:28,  1.97s/it]"
          ]
        },
        {
          "output_type": "stream",
          "name": "stdout",
          "text": [
            "Epoch: 24, Iteration: 15000, Loss: 5.197115898132324\n"
          ]
        },
        {
          "output_type": "stream",
          "name": "stderr",
          "text": [
            "Training Epoch 24:  32%|███▏      | 203/625 [06:21<13:21,  1.90s/it]"
          ]
        },
        {
          "output_type": "stream",
          "name": "stdout",
          "text": [
            "Epoch: 24, Iteration: 15200, Loss: 6.218232154846191\n"
          ]
        },
        {
          "output_type": "stream",
          "name": "stderr",
          "text": [
            "Training Epoch 24:  64%|██████▍   | 403/625 [12:36<07:03,  1.91s/it]"
          ]
        },
        {
          "output_type": "stream",
          "name": "stdout",
          "text": [
            "Epoch: 24, Iteration: 15400, Loss: 6.17962646484375\n"
          ]
        },
        {
          "output_type": "stream",
          "name": "stderr",
          "text": [
            "Training Epoch 24:  96%|█████████▋| 603/625 [18:51<00:41,  1.90s/it]"
          ]
        },
        {
          "output_type": "stream",
          "name": "stdout",
          "text": [
            "Epoch: 24, Iteration: 15600, Loss: 5.56288480758667\n"
          ]
        },
        {
          "output_type": "stream",
          "name": "stderr",
          "text": [
            "Training Epoch 24:  98%|█████████▊| 611/625 [19:06<00:26,  1.88s/it]\n"
          ]
        },
        {
          "output_type": "stream",
          "name": "stdout",
          "text": [
            "training epoch:  25\n"
          ]
        },
        {
          "output_type": "stream",
          "name": "stderr",
          "text": [
            "Training Epoch 25:  31%|███       | 192/625 [06:00<13:40,  1.90s/it]"
          ]
        },
        {
          "output_type": "stream",
          "name": "stdout",
          "text": [
            "Epoch: 25, Iteration: 15800, Loss: 5.490146160125732\n"
          ]
        },
        {
          "output_type": "stream",
          "name": "stderr",
          "text": [
            "Training Epoch 25:  63%|██████▎   | 391/625 [12:13<07:18,  1.87s/it]"
          ]
        },
        {
          "output_type": "stream",
          "name": "stdout",
          "text": [
            "Epoch: 25, Iteration: 16000, Loss: 6.135409355163574\n"
          ]
        },
        {
          "output_type": "stream",
          "name": "stderr",
          "text": [
            "Training Epoch 25:  95%|█████████▍| 592/625 [18:30<01:02,  1.89s/it]"
          ]
        },
        {
          "output_type": "stream",
          "name": "stdout",
          "text": [
            "Epoch: 25, Iteration: 16200, Loss: 5.770147800445557\n"
          ]
        },
        {
          "output_type": "stream",
          "name": "stderr",
          "text": [
            "Training Epoch 25:  98%|█████████▊| 611/625 [19:06<00:26,  1.88s/it]\n"
          ]
        },
        {
          "output_type": "stream",
          "name": "stdout",
          "text": [
            "training epoch:  26\n"
          ]
        },
        {
          "output_type": "stream",
          "name": "stderr",
          "text": [
            "Training Epoch 26:  29%|██▉       | 181/625 [05:39<13:59,  1.89s/it]"
          ]
        },
        {
          "output_type": "stream",
          "name": "stdout",
          "text": [
            "Epoch: 26, Iteration: 16400, Loss: 5.69944953918457\n"
          ]
        },
        {
          "output_type": "stream",
          "name": "stderr",
          "text": [
            "Training Epoch 26:  61%|██████    | 381/625 [11:54<07:39,  1.88s/it]"
          ]
        },
        {
          "output_type": "stream",
          "name": "stdout",
          "text": [
            "Epoch: 26, Iteration: 16600, Loss: 5.432331085205078\n"
          ]
        },
        {
          "output_type": "stream",
          "name": "stderr",
          "text": [
            "Training Epoch 26:  93%|█████████▎| 581/625 [18:09<01:23,  1.90s/it]"
          ]
        },
        {
          "output_type": "stream",
          "name": "stdout",
          "text": [
            "Epoch: 26, Iteration: 16800, Loss: 5.2367401123046875\n"
          ]
        },
        {
          "output_type": "stream",
          "name": "stderr",
          "text": [
            "Training Epoch 26:  98%|█████████▊| 611/625 [19:06<00:26,  1.88s/it]\n"
          ]
        },
        {
          "output_type": "stream",
          "name": "stdout",
          "text": [
            "training epoch:  27\n"
          ]
        },
        {
          "output_type": "stream",
          "name": "stderr",
          "text": [
            "Training Epoch 27:  27%|██▋       | 169/625 [05:17<14:21,  1.89s/it]"
          ]
        },
        {
          "output_type": "stream",
          "name": "stdout",
          "text": [
            "Epoch: 27, Iteration: 17000, Loss: 6.27824592590332\n"
          ]
        },
        {
          "output_type": "stream",
          "name": "stderr",
          "text": [
            "Training Epoch 27:  59%|█████▉    | 370/625 [11:34<08:01,  1.89s/it]"
          ]
        },
        {
          "output_type": "stream",
          "name": "stdout",
          "text": [
            "Epoch: 27, Iteration: 17200, Loss: 6.045902252197266\n"
          ]
        },
        {
          "output_type": "stream",
          "name": "stderr",
          "text": [
            "Training Epoch 27:  91%|█████████ | 570/625 [17:49<01:43,  1.88s/it]"
          ]
        },
        {
          "output_type": "stream",
          "name": "stdout",
          "text": [
            "Epoch: 27, Iteration: 17400, Loss: 5.151262283325195\n"
          ]
        },
        {
          "output_type": "stream",
          "name": "stderr",
          "text": [
            "Training Epoch 27:  98%|█████████▊| 611/625 [19:06<00:26,  1.88s/it]\n"
          ]
        },
        {
          "output_type": "stream",
          "name": "stdout",
          "text": [
            "training epoch:  28\n"
          ]
        },
        {
          "output_type": "stream",
          "name": "stderr",
          "text": [
            "Training Epoch 28:  25%|██▌       | 159/625 [04:58<14:42,  1.89s/it]"
          ]
        },
        {
          "output_type": "stream",
          "name": "stdout",
          "text": [
            "Epoch: 28, Iteration: 17600, Loss: 6.404932022094727\n"
          ]
        },
        {
          "output_type": "stream",
          "name": "stderr",
          "text": [
            "Training Epoch 28:  57%|█████▋    | 359/625 [11:13<08:22,  1.89s/it]"
          ]
        },
        {
          "output_type": "stream",
          "name": "stdout",
          "text": [
            "Epoch: 28, Iteration: 17800, Loss: 5.838663101196289\n"
          ]
        },
        {
          "output_type": "stream",
          "name": "stderr",
          "text": [
            "Training Epoch 28:  89%|████████▉ | 559/625 [17:28<02:08,  1.94s/it]"
          ]
        },
        {
          "output_type": "stream",
          "name": "stdout",
          "text": [
            "Epoch: 28, Iteration: 18000, Loss: 6.639861106872559\n"
          ]
        },
        {
          "output_type": "stream",
          "name": "stderr",
          "text": [
            "Training Epoch 28:  98%|█████████▊| 611/625 [19:06<00:26,  1.88s/it]\n"
          ]
        },
        {
          "output_type": "stream",
          "name": "stdout",
          "text": [
            "training epoch:  29\n"
          ]
        },
        {
          "output_type": "stream",
          "name": "stderr",
          "text": [
            "Training Epoch 29:  24%|██▎       | 148/625 [04:37<15:02,  1.89s/it]"
          ]
        },
        {
          "output_type": "stream",
          "name": "stdout",
          "text": [
            "Epoch: 29, Iteration: 18200, Loss: 7.371843338012695\n"
          ]
        },
        {
          "output_type": "stream",
          "name": "stderr",
          "text": [
            "Training Epoch 29:  56%|█████▌    | 348/625 [10:52<08:47,  1.90s/it]"
          ]
        },
        {
          "output_type": "stream",
          "name": "stdout",
          "text": [
            "Epoch: 29, Iteration: 18400, Loss: 5.954078197479248\n"
          ]
        },
        {
          "output_type": "stream",
          "name": "stderr",
          "text": [
            "Training Epoch 29:  88%|████████▊ | 548/625 [17:07<02:25,  1.89s/it]"
          ]
        },
        {
          "output_type": "stream",
          "name": "stdout",
          "text": [
            "Epoch: 29, Iteration: 18600, Loss: 6.104496955871582\n"
          ]
        },
        {
          "output_type": "stream",
          "name": "stderr",
          "text": [
            "Training Epoch 29:  98%|█████████▊| 611/625 [19:05<00:26,  1.87s/it]\n"
          ]
        },
        {
          "output_type": "stream",
          "name": "stdout",
          "text": [
            "training epoch:  30\n"
          ]
        },
        {
          "output_type": "stream",
          "name": "stderr",
          "text": [
            "Training Epoch 30:  22%|██▏       | 137/625 [04:17<15:28,  1.90s/it]"
          ]
        },
        {
          "output_type": "stream",
          "name": "stdout",
          "text": [
            "Epoch: 30, Iteration: 18800, Loss: 5.561851501464844\n"
          ]
        },
        {
          "output_type": "stream",
          "name": "stderr",
          "text": [
            "Training Epoch 30:  54%|█████▍    | 337/625 [10:31<09:16,  1.93s/it]"
          ]
        },
        {
          "output_type": "stream",
          "name": "stdout",
          "text": [
            "Epoch: 30, Iteration: 19000, Loss: 5.859963893890381\n"
          ]
        },
        {
          "output_type": "stream",
          "name": "stderr",
          "text": [
            "Training Epoch 30:  86%|████████▌ | 537/625 [16:46<02:46,  1.89s/it]"
          ]
        },
        {
          "output_type": "stream",
          "name": "stdout",
          "text": [
            "Epoch: 30, Iteration: 19200, Loss: 5.692466735839844\n"
          ]
        },
        {
          "output_type": "stream",
          "name": "stderr",
          "text": [
            "Training Epoch 30:  98%|█████████▊| 611/625 [19:05<00:26,  1.87s/it]\n"
          ]
        },
        {
          "output_type": "stream",
          "name": "stdout",
          "text": [
            "training epoch:  31\n"
          ]
        },
        {
          "output_type": "stream",
          "name": "stderr",
          "text": [
            "Training Epoch 31:  20%|██        | 126/625 [03:56<15:38,  1.88s/it]"
          ]
        },
        {
          "output_type": "stream",
          "name": "stdout",
          "text": [
            "Epoch: 31, Iteration: 19400, Loss: 5.549826145172119\n"
          ]
        },
        {
          "output_type": "stream",
          "name": "stderr",
          "text": [
            "Training Epoch 31:  52%|█████▏    | 326/625 [10:11<09:25,  1.89s/it]"
          ]
        },
        {
          "output_type": "stream",
          "name": "stdout",
          "text": [
            "Epoch: 31, Iteration: 19600, Loss: 6.208248138427734\n"
          ]
        },
        {
          "output_type": "stream",
          "name": "stderr",
          "text": [
            "Training Epoch 31:  84%|████████▍ | 526/625 [16:25<03:06,  1.88s/it]"
          ]
        },
        {
          "output_type": "stream",
          "name": "stdout",
          "text": [
            "Epoch: 31, Iteration: 19800, Loss: 4.890878677368164\n"
          ]
        },
        {
          "output_type": "stream",
          "name": "stderr",
          "text": [
            "Training Epoch 31:  98%|█████████▊| 611/625 [19:04<00:26,  1.87s/it]\n"
          ]
        },
        {
          "output_type": "stream",
          "name": "stdout",
          "text": [
            "training epoch:  32\n"
          ]
        },
        {
          "output_type": "stream",
          "name": "stderr",
          "text": [
            "Training Epoch 32:  18%|█▊        | 115/625 [03:35<16:30,  1.94s/it]"
          ]
        },
        {
          "output_type": "stream",
          "name": "stdout",
          "text": [
            "Epoch: 32, Iteration: 20000, Loss: 5.391304016113281\n"
          ]
        },
        {
          "output_type": "stream",
          "name": "stderr",
          "text": [
            "Training Epoch 32:  50%|█████     | 315/625 [09:50<09:43,  1.88s/it]"
          ]
        },
        {
          "output_type": "stream",
          "name": "stdout",
          "text": [
            "Epoch: 32, Iteration: 20200, Loss: 4.727985382080078\n"
          ]
        },
        {
          "output_type": "stream",
          "name": "stderr",
          "text": [
            "Training Epoch 32:  82%|████████▏ | 515/625 [16:04<03:27,  1.88s/it]"
          ]
        },
        {
          "output_type": "stream",
          "name": "stdout",
          "text": [
            "Epoch: 32, Iteration: 20400, Loss: 5.64390754699707\n"
          ]
        },
        {
          "output_type": "stream",
          "name": "stderr",
          "text": [
            "Training Epoch 32:  98%|█████████▊| 611/625 [19:04<00:26,  1.87s/it]\n"
          ]
        },
        {
          "output_type": "stream",
          "name": "stdout",
          "text": [
            "training epoch:  33\n"
          ]
        },
        {
          "output_type": "stream",
          "name": "stderr",
          "text": [
            "Training Epoch 33:  17%|█▋        | 104/625 [03:14<16:26,  1.89s/it]"
          ]
        },
        {
          "output_type": "stream",
          "name": "stdout",
          "text": [
            "Epoch: 33, Iteration: 20600, Loss: 5.051721096038818\n"
          ]
        },
        {
          "output_type": "stream",
          "name": "stderr",
          "text": [
            "Training Epoch 33:  49%|████▊     | 304/625 [09:29<10:08,  1.90s/it]"
          ]
        },
        {
          "output_type": "stream",
          "name": "stdout",
          "text": [
            "Epoch: 33, Iteration: 20800, Loss: 5.615438461303711\n"
          ]
        },
        {
          "output_type": "stream",
          "name": "stderr",
          "text": [
            "Training Epoch 33:  81%|████████  | 504/625 [15:43<03:53,  1.93s/it]"
          ]
        },
        {
          "output_type": "stream",
          "name": "stdout",
          "text": [
            "Epoch: 33, Iteration: 21000, Loss: 5.6046366691589355\n"
          ]
        },
        {
          "output_type": "stream",
          "name": "stderr",
          "text": [
            "Training Epoch 33:  98%|█████████▊| 611/625 [19:04<00:26,  1.87s/it]\n"
          ]
        },
        {
          "output_type": "stream",
          "name": "stdout",
          "text": [
            "training epoch:  34\n"
          ]
        },
        {
          "output_type": "stream",
          "name": "stderr",
          "text": [
            "Training Epoch 34:  15%|█▍        | 93/625 [02:54<16:56,  1.91s/it]"
          ]
        },
        {
          "output_type": "stream",
          "name": "stdout",
          "text": [
            "Epoch: 34, Iteration: 21200, Loss: 4.966973781585693\n"
          ]
        },
        {
          "output_type": "stream",
          "name": "stderr",
          "text": [
            "Training Epoch 34:  47%|████▋     | 293/625 [09:08<10:25,  1.88s/it]"
          ]
        },
        {
          "output_type": "stream",
          "name": "stdout",
          "text": [
            "Epoch: 34, Iteration: 21400, Loss: 5.641546249389648\n"
          ]
        },
        {
          "output_type": "stream",
          "name": "stderr",
          "text": [
            "Training Epoch 34:  79%|███████▉  | 493/625 [15:23<04:09,  1.89s/it]"
          ]
        },
        {
          "output_type": "stream",
          "name": "stdout",
          "text": [
            "Epoch: 34, Iteration: 21600, Loss: 5.274781227111816\n"
          ]
        },
        {
          "output_type": "stream",
          "name": "stderr",
          "text": [
            "Training Epoch 34:  98%|█████████▊| 611/625 [19:04<00:26,  1.87s/it]\n"
          ]
        },
        {
          "output_type": "stream",
          "name": "stdout",
          "text": [
            "training epoch:  35\n"
          ]
        },
        {
          "output_type": "stream",
          "name": "stderr",
          "text": [
            "Training Epoch 35:  13%|█▎        | 82/625 [02:33<17:14,  1.91s/it]"
          ]
        },
        {
          "output_type": "stream",
          "name": "stdout",
          "text": [
            "Epoch: 35, Iteration: 21800, Loss: 6.339265823364258\n"
          ]
        },
        {
          "output_type": "stream",
          "name": "stderr",
          "text": [
            "Training Epoch 35:  45%|████▍     | 281/625 [08:46<10:41,  1.87s/it]"
          ]
        },
        {
          "output_type": "stream",
          "name": "stdout",
          "text": [
            "Epoch: 35, Iteration: 22000, Loss: 5.8711771965026855\n"
          ]
        },
        {
          "output_type": "stream",
          "name": "stderr",
          "text": [
            "Training Epoch 35:  77%|███████▋  | 482/625 [15:03<04:29,  1.88s/it]"
          ]
        },
        {
          "output_type": "stream",
          "name": "stdout",
          "text": [
            "Epoch: 35, Iteration: 22200, Loss: 5.005458831787109\n"
          ]
        },
        {
          "output_type": "stream",
          "name": "stderr",
          "text": [
            "Training Epoch 35:  98%|█████████▊| 611/625 [19:04<00:26,  1.87s/it]\n"
          ]
        },
        {
          "output_type": "stream",
          "name": "stdout",
          "text": [
            "training epoch:  36\n"
          ]
        },
        {
          "output_type": "stream",
          "name": "stderr",
          "text": [
            "Training Epoch 36:  11%|█▏        | 71/625 [02:13<17:28,  1.89s/it]"
          ]
        },
        {
          "output_type": "stream",
          "name": "stdout",
          "text": [
            "Epoch: 36, Iteration: 22400, Loss: 5.234828948974609\n"
          ]
        },
        {
          "output_type": "stream",
          "name": "stderr",
          "text": [
            "Training Epoch 36:  43%|████▎     | 271/625 [08:28<11:15,  1.91s/it]"
          ]
        },
        {
          "output_type": "stream",
          "name": "stdout",
          "text": [
            "Epoch: 36, Iteration: 22600, Loss: 5.737947463989258\n"
          ]
        },
        {
          "output_type": "stream",
          "name": "stderr",
          "text": [
            "Training Epoch 36:  75%|███████▌  | 471/625 [14:42<04:51,  1.89s/it]"
          ]
        },
        {
          "output_type": "stream",
          "name": "stdout",
          "text": [
            "Epoch: 36, Iteration: 22800, Loss: 5.710577011108398\n"
          ]
        },
        {
          "output_type": "stream",
          "name": "stderr",
          "text": [
            "Training Epoch 36:  98%|█████████▊| 611/625 [19:04<00:26,  1.87s/it]\n"
          ]
        },
        {
          "output_type": "stream",
          "name": "stdout",
          "text": [
            "training epoch:  37\n"
          ]
        },
        {
          "output_type": "stream",
          "name": "stderr",
          "text": [
            "Training Epoch 37:   9%|▉         | 59/625 [01:50<17:39,  1.87s/it]"
          ]
        },
        {
          "output_type": "stream",
          "name": "stdout",
          "text": [
            "Epoch: 37, Iteration: 23000, Loss: 5.633466720581055\n"
          ]
        },
        {
          "output_type": "stream",
          "name": "stderr",
          "text": [
            "Training Epoch 37:  42%|████▏     | 260/625 [08:07<11:27,  1.88s/it]"
          ]
        },
        {
          "output_type": "stream",
          "name": "stdout",
          "text": [
            "Epoch: 37, Iteration: 23200, Loss: 4.610074043273926\n"
          ]
        },
        {
          "output_type": "stream",
          "name": "stderr",
          "text": [
            "Training Epoch 37:  74%|███████▎  | 460/625 [14:21<05:10,  1.88s/it]"
          ]
        },
        {
          "output_type": "stream",
          "name": "stdout",
          "text": [
            "Epoch: 37, Iteration: 23400, Loss: 5.476279258728027\n"
          ]
        },
        {
          "output_type": "stream",
          "name": "stderr",
          "text": [
            "Training Epoch 37:  98%|█████████▊| 611/625 [19:04<00:26,  1.87s/it]\n"
          ]
        },
        {
          "output_type": "stream",
          "name": "stdout",
          "text": [
            "training epoch:  38\n"
          ]
        },
        {
          "output_type": "stream",
          "name": "stderr",
          "text": [
            "Training Epoch 38:   8%|▊         | 49/625 [01:31<18:08,  1.89s/it]"
          ]
        },
        {
          "output_type": "stream",
          "name": "stdout",
          "text": [
            "Epoch: 38, Iteration: 23600, Loss: 5.620490074157715\n"
          ]
        },
        {
          "output_type": "stream",
          "name": "stderr",
          "text": [
            "Training Epoch 38:  40%|███▉      | 249/625 [07:46<11:50,  1.89s/it]"
          ]
        },
        {
          "output_type": "stream",
          "name": "stdout",
          "text": [
            "Epoch: 38, Iteration: 23800, Loss: 5.321342468261719\n"
          ]
        },
        {
          "output_type": "stream",
          "name": "stderr",
          "text": [
            "Training Epoch 38:  72%|███████▏  | 449/625 [14:00<05:41,  1.94s/it]"
          ]
        },
        {
          "output_type": "stream",
          "name": "stdout",
          "text": [
            "Epoch: 38, Iteration: 24000, Loss: 5.147841453552246\n"
          ]
        },
        {
          "output_type": "stream",
          "name": "stderr",
          "text": [
            "Training Epoch 38:  98%|█████████▊| 611/625 [19:04<00:26,  1.87s/it]\n"
          ]
        },
        {
          "output_type": "stream",
          "name": "stdout",
          "text": [
            "training epoch:  39\n"
          ]
        },
        {
          "output_type": "stream",
          "name": "stderr",
          "text": [
            "Training Epoch 39:   6%|▌         | 38/625 [01:11<18:25,  1.88s/it]"
          ]
        },
        {
          "output_type": "stream",
          "name": "stdout",
          "text": [
            "Epoch: 39, Iteration: 24200, Loss: 5.187779903411865\n"
          ]
        },
        {
          "output_type": "stream",
          "name": "stderr",
          "text": [
            "Training Epoch 39:  38%|███▊      | 238/625 [07:26<12:09,  1.88s/it]"
          ]
        },
        {
          "output_type": "stream",
          "name": "stdout",
          "text": [
            "Epoch: 39, Iteration: 24400, Loss: 5.227729797363281\n"
          ]
        },
        {
          "output_type": "stream",
          "name": "stderr",
          "text": [
            "Training Epoch 39:  70%|███████   | 438/625 [13:41<05:57,  1.91s/it]"
          ]
        },
        {
          "output_type": "stream",
          "name": "stdout",
          "text": [
            "Epoch: 39, Iteration: 24600, Loss: 5.5144171714782715\n"
          ]
        },
        {
          "output_type": "stream",
          "name": "stderr",
          "text": [
            "Training Epoch 39:  98%|█████████▊| 611/625 [19:05<00:26,  1.88s/it]\n"
          ]
        },
        {
          "output_type": "stream",
          "name": "stdout",
          "text": [
            "training epoch:  40\n"
          ]
        },
        {
          "output_type": "stream",
          "name": "stderr",
          "text": [
            "Training Epoch 40:   4%|▍         | 27/625 [00:50<18:50,  1.89s/it]"
          ]
        },
        {
          "output_type": "stream",
          "name": "stdout",
          "text": [
            "Epoch: 40, Iteration: 24800, Loss: 5.733924865722656\n"
          ]
        },
        {
          "output_type": "stream",
          "name": "stderr",
          "text": [
            "Training Epoch 40:  36%|███▋      | 227/625 [07:05<12:51,  1.94s/it]"
          ]
        },
        {
          "output_type": "stream",
          "name": "stdout",
          "text": [
            "Epoch: 40, Iteration: 25000, Loss: 5.047883033752441\n"
          ]
        },
        {
          "output_type": "stream",
          "name": "stderr",
          "text": [
            "Training Epoch 40:  68%|██████▊   | 427/625 [13:20<06:15,  1.89s/it]"
          ]
        },
        {
          "output_type": "stream",
          "name": "stdout",
          "text": [
            "Epoch: 40, Iteration: 25200, Loss: 6.005544662475586\n"
          ]
        },
        {
          "output_type": "stream",
          "name": "stderr",
          "text": [
            "Training Epoch 40:  98%|█████████▊| 611/625 [19:04<00:26,  1.87s/it]\n"
          ]
        },
        {
          "output_type": "stream",
          "name": "stdout",
          "text": [
            "training epoch:  41\n"
          ]
        },
        {
          "output_type": "stream",
          "name": "stderr",
          "text": [
            "Training Epoch 41:   3%|▎         | 16/625 [00:30<19:22,  1.91s/it]"
          ]
        },
        {
          "output_type": "stream",
          "name": "stdout",
          "text": [
            "Epoch: 41, Iteration: 25400, Loss: 5.154298305511475\n"
          ]
        },
        {
          "output_type": "stream",
          "name": "stderr",
          "text": [
            "Training Epoch 41:  35%|███▍      | 216/625 [06:45<12:58,  1.90s/it]"
          ]
        },
        {
          "output_type": "stream",
          "name": "stdout",
          "text": [
            "Epoch: 41, Iteration: 25600, Loss: 4.772166728973389\n"
          ]
        },
        {
          "output_type": "stream",
          "name": "stderr",
          "text": [
            "Training Epoch 41:  42%|████▏     | 260/625 [08:09<11:27,  1.88s/it]\n"
          ]
        },
        {
          "output_type": "error",
          "ename": "KeyboardInterrupt",
          "evalue": "",
          "traceback": [
            "\u001b[0;31m---------------------------------------------------------------------------\u001b[0m",
            "\u001b[0;31mKeyboardInterrupt\u001b[0m                         Traceback (most recent call last)",
            "\u001b[0;32m<ipython-input-39-2da0ffaf5447>\u001b[0m in \u001b[0;36m<cell line: 1>\u001b[0;34m()\u001b[0m\n\u001b[0;32m----> 1\u001b[0;31m \u001b[0mtrain\u001b[0m\u001b[0;34m(\u001b[0m\u001b[0;34m)\u001b[0m\u001b[0;34m\u001b[0m\u001b[0;34m\u001b[0m\u001b[0m\n\u001b[0m",
            "\u001b[0;32m<ipython-input-38-1281f76ad557>\u001b[0m in \u001b[0;36mtrain\u001b[0;34m()\u001b[0m\n\u001b[1;32m    172\u001b[0m \u001b[0;34m\u001b[0m\u001b[0m\n\u001b[1;32m    173\u001b[0m             \u001b[0;31m# Save the loss\u001b[0m\u001b[0;34m\u001b[0m\u001b[0;34m\u001b[0m\u001b[0m\n\u001b[0;32m--> 174\u001b[0;31m             \u001b[0mD_losses\u001b[0m\u001b[0;34m.\u001b[0m\u001b[0mappend\u001b[0m\u001b[0;34m(\u001b[0m\u001b[0mloss_D\u001b[0m\u001b[0;34m.\u001b[0m\u001b[0mitem\u001b[0m\u001b[0;34m(\u001b[0m\u001b[0;34m)\u001b[0m\u001b[0;34m)\u001b[0m\u001b[0;34m\u001b[0m\u001b[0;34m\u001b[0m\u001b[0m\n\u001b[0m\u001b[1;32m    175\u001b[0m             \u001b[0mG_losses\u001b[0m\u001b[0;34m.\u001b[0m\u001b[0mappend\u001b[0m\u001b[0;34m(\u001b[0m\u001b[0mloss_G\u001b[0m\u001b[0;34m.\u001b[0m\u001b[0mitem\u001b[0m\u001b[0;34m(\u001b[0m\u001b[0;34m)\u001b[0m\u001b[0;34m)\u001b[0m\u001b[0;34m\u001b[0m\u001b[0;34m\u001b[0m\u001b[0m\n\u001b[1;32m    176\u001b[0m \u001b[0;34m\u001b[0m\u001b[0m\n",
            "\u001b[0;31mKeyboardInterrupt\u001b[0m: "
          ]
        }
      ],
      "source": [
        "train()"
      ]
    },
    {
      "cell_type": "markdown",
      "source": [
        "Andersson Weight 로 돌리고 나서 , generator 가 잘 작동하는지 실제 image를 넣어  test 해보기"
      ],
      "metadata": {
        "id": "znXp4DYsCK30"
      }
    },
    {
      "cell_type": "markdown",
      "source": [
        "1. train() , pretrain() 셀 과 이 ipynb 의 마지막 셀 빼고 모두 실행하고<br>\n",
        "2. 이 텍스트 바로 위의 코드를 실행 한 후에 ( andersson 의 weight 를 가져와서 이어서 D, G를 100 epoch 으로 학습하는 방법 )  \n",
        "3. 이 ipynb 의 마지막 셀의 코드를 돌려서 generator 가 잘 작동하는지 실제 image 를 넣어 test 해보기"
      ],
      "metadata": {
        "id": "hQKYHipDDqPB"
      }
    },
    {
      "cell_type": "code",
      "execution_count": null,
      "metadata": {
        "id": "f4RgBBv67GNA"
      },
      "outputs": [],
      "source": [
        "def conv3x3(in_planes, out_planes, stride=1):\n",
        "    \"3x3 convolution with padding\"\n",
        "    return nn.Sequential(\n",
        "        nn.ReflectionPad2d(1),\n",
        "        nn.Conv2d(in_planes, out_planes, kernel_size=3, stride=stride,\n",
        "                  padding=0, bias=False)\n",
        "    )\n",
        "\n",
        "\n",
        "class ShuffleUpBlock(nn.Module):\n",
        "    def __init__(self, scale=2, add_blur=False):\n",
        "        super(UpBlock, self).__init__()\n",
        "\n",
        "        self.shuffle = nn.PixelShuffle(scale)\n",
        "        self.has_blur = add_blur\n",
        "        if self.has_blur:\n",
        "            self.blur = nn.AvgPool2d(2, 1)\n",
        "\n",
        "    def forward(self, x):\n",
        "        if self.has_blur:\n",
        "            x = self.blur(x)\n",
        "        x = self.shuffle(x)\n",
        "        return x\n",
        "\n",
        "\n",
        "class Self_Attn(nn.Module):\n",
        "    \"\"\" Self attention Layer\"\"\"\n",
        "\n",
        "    def __init__(self, in_dim, activation):\n",
        "        super(Self_Attn, self).__init__()\n",
        "        self.chanel_in = in_dim\n",
        "        self.activation = activation\n",
        "\n",
        "        self.query_conv = nn.Conv2d(\n",
        "            in_channels=in_dim, out_channels=in_dim//8, kernel_size=1)\n",
        "        self.key_conv = nn.Conv2d(\n",
        "            in_channels=in_dim, out_channels=in_dim//8, kernel_size=1)\n",
        "        self.value_conv = nn.Conv2d(\n",
        "            in_channels=in_dim, out_channels=in_dim, kernel_size=1)\n",
        "        self.gamma = nn.Parameter(torch.zeros(1))\n",
        "\n",
        "        self.softmax = nn.Softmax(dim=-1)\n",
        "\n",
        "    def forward(self, x):\n",
        "        \"\"\"\n",
        "            inputs :\n",
        "                x : input feature maps( B X C X W X H)\n",
        "            returns :\n",
        "                out : self attention value + input feature\n",
        "                attention: B X N X N (N is Width*Height)\n",
        "        \"\"\"\n",
        "        m_batchsize, C, width, height = x.size()\n",
        "        proj_query = self.query_conv(x).view(\n",
        "            m_batchsize, -1, width*height).permute(0, 2, 1)  # B X CX(N)\n",
        "        proj_key = self.key_conv(x).view(\n",
        "            m_batchsize, -1, width*height)  # B X C x (*W*H)\n",
        "        energy = torch.bmm(proj_query, proj_key)  # transpose check\n",
        "        attention = self.softmax(energy)  # BX (N) X (N)\n",
        "        proj_value = self.value_conv(x).view(\n",
        "            m_batchsize, -1, width*height)  # B X C X N\n",
        "\n",
        "        out = torch.bmm(proj_value, attention.permute(0, 2, 1))\n",
        "        out = out.view(m_batchsize, C, width, height)\n",
        "\n",
        "        out = self.gamma*out + x\n",
        "        return out, attention\n",
        "\n",
        "\n",
        "class UpBlock(nn.Module):\n",
        "    def __init__(self, in_f, out_f, stride=2, add_blur=False):\n",
        "        super(UpBlock, self).__init__()\n",
        "\n",
        "        self.shuffle = nn.ConvTranspose2d(\n",
        "            in_f, out_f, kernel_size=3, stride=stride, padding=0)\n",
        "        self.has_blur = add_blur\n",
        "        if self.has_blur:\n",
        "            self.blur = nn.AvgPool2d(2, 1)\n",
        "\n",
        "    def forward(self, x):\n",
        "        x = self.shuffle(x)\n",
        "        if self.has_blur:\n",
        "            x = self.blur(x)\n",
        "        return x\n",
        "\n",
        "\n",
        "def add_resblocks(channel_num, nr_blocks):\n",
        "    return nn.Sequential(*[ResBlock(channel_num) for i in range(nr_blocks)])\n",
        "\n",
        "\n",
        "class ResBlock(nn.Module):\n",
        "    def __init__(self, channel_num):\n",
        "        super(ResBlock, self).__init__()\n",
        "        self.block = nn.Sequential(\n",
        "            conv3x3(channel_num, channel_num),\n",
        "            nn.BatchNorm2d(channel_num),\n",
        "            nn.ReLU(inplace=True),\n",
        "            conv3x3(channel_num, channel_num),\n",
        "            nn.BatchNorm2d(channel_num))\n",
        "        self.relu = nn.ReLU(inplace=True)\n",
        "\n",
        "    def forward(self, x):\n",
        "        residual = x\n",
        "        out = self.block(x)\n",
        "        out += residual\n",
        "        out = self.relu(out)\n",
        "        return out"
      ]
    },
    {
      "cell_type": "code",
      "execution_count": null,
      "metadata": {
        "id": "lSqib2Pg7GNA"
      },
      "outputs": [],
      "source": [
        "NEG_SLOPE = .2\n",
        "\n",
        "\n",
        "class Discriminator(nn.Module):\n",
        "    def __init__(self):\n",
        "        super(Discriminator, self).__init__()\n",
        "\n",
        "        self.conv = nn.Sequential(\n",
        "            conv3x3(3, 32, stride=1),\n",
        "            nn.LeakyReLU(NEG_SLOPE, inplace=True),\n",
        "\n",
        "            conv3x3(32, 64, stride=2),\n",
        "            nn.LeakyReLU(NEG_SLOPE, inplace=True),\n",
        "            conv3x3(64, 128, stride=1),\n",
        "            nn.BatchNorm2d(128),\n",
        "            nn.LeakyReLU(NEG_SLOPE, inplace=True),\n",
        "\n",
        "            conv3x3(128, 128, stride=2),\n",
        "            nn.LeakyReLU(NEG_SLOPE, inplace=True),\n",
        "            conv3x3(128, 256, stride=1),\n",
        "            nn.BatchNorm2d(256),\n",
        "            nn.LeakyReLU(NEG_SLOPE, inplace=True),\n",
        "\n",
        "            conv3x3(256, 1, stride=1),  # ??\n",
        "            nn.Sigmoid()  # ??\n",
        "        )\n",
        "\n",
        "    def forward(self, x):\n",
        "        x = self.conv(x)\n",
        "        return x"
      ]
    },
    {
      "cell_type": "code",
      "source": [
        "class Generator(nn.Module):\n",
        "    def __init__(self):\n",
        "        super(Generator, self).__init__()\n",
        "\n",
        "        self.down = nn.Sequential(\n",
        "            nn.Conv2d(3, 64, kernel_size=7, stride=1,\n",
        "                      padding=7//2, bias=False),\n",
        "            nn.BatchNorm2d(64),\n",
        "            nn.ReLU(inplace=True),\n",
        "\n",
        "            conv3x3(64, 128, stride=2),\n",
        "            conv3x3(128, 128, stride=1),\n",
        "            nn.BatchNorm2d(128),\n",
        "            nn.ReLU(inplace=True),\n",
        "\n",
        "            conv3x3(128, 256, stride=2),\n",
        "            conv3x3(256, 256, stride=1),\n",
        "            nn.BatchNorm2d(256),\n",
        "            nn.ReLU(inplace=True),\n",
        "        )\n",
        "\n",
        "        self.res = nn.Sequential(add_resblocks(256, 8))\n",
        "\n",
        "        self.up = nn.Sequential(\n",
        "            UpBlock(256, 128, stride=2, add_blur=True),\n",
        "            conv3x3(128, 128, stride=1),\n",
        "            nn.BatchNorm2d(128),\n",
        "            nn.ReLU(inplace=True),\n",
        "\n",
        "            UpBlock(128, 64, stride=2, add_blur=True),\n",
        "            conv3x3(64, 64, stride=1),\n",
        "            nn.BatchNorm2d(64),\n",
        "            nn.ReLU(inplace=True),\n",
        "\n",
        "            nn.Conv2d(64, 3, kernel_size=7, stride=1, padding=7//2)\n",
        "        )\n",
        "\n",
        "    def forward(self, x):\n",
        "        x = self.down(x)\n",
        "        x = self.res(x)\n",
        "        x = self.up(x)\n",
        "        return x"
      ],
      "metadata": {
        "id": "wEzNAnuFAkVh"
      },
      "execution_count": null,
      "outputs": []
    },
    {
      "cell_type": "code",
      "source": [
        "from torchvision.utils import save_image\n",
        "\n",
        "device = torch.device(\"cuda\" if torch.cuda.is_available() else \"cpu\")\n",
        "print(device)\n",
        "\n",
        "D = Discriminator().to(device)\n",
        "G = Generator().to(device)\n",
        "\n",
        "G.load_state_dict(\n",
        "    torch.load\n",
        "    (\"/content/drive/MyDrive/GAN/CartoonGAN/checkpoints/train_D_G/G_epoch47_iter29000_loss4.274.pth\"))\n",
        "\n",
        "\n",
        "D.load_state_dict(\n",
        "    torch.load(\"/content/drive/MyDrive/GAN/CartoonGAN/checkpoints/train_D_G/D_epoch47_iter29000_loss1.700.pth\"))\n",
        "\n",
        "\n",
        "# 이미지 생성 및 저장\n",
        "output_dir = '/content/transformed_images'\n",
        "os.makedirs(output_dir, exist_ok=True)\n",
        "\n",
        "# 데이터셋 및 데이터로더 설정\n",
        "data_loader = get_dataloader(real_data_path, size=256, batch_size=16)\n",
        "\n",
        "\n",
        "G.eval()\n",
        "with torch.no_grad():\n",
        "    for i, images in enumerate(tqdm(data_loader, desc='Transforming Images')):\n",
        "        images = images.to(device)\n",
        "        transformed_images = unnormalize(G(images))\n",
        "        for j, image in enumerate(transformed_images):\n",
        "            save_image(image, os.path.join(output_dir, f'transformed_image_{i*len(images)+j}.png'))\n"
      ],
      "metadata": {
        "id": "ww20nxgOAmc0"
      },
      "execution_count": null,
      "outputs": []
    }
  ],
  "metadata": {
    "kernelspec": {
      "display_name": "Python 3",
      "name": "python3"
    },
    "language_info": {
      "codemirror_mode": {
        "name": "ipython",
        "version": 3
      },
      "file_extension": ".py",
      "mimetype": "text/x-python",
      "name": "python",
      "nbconvert_exporter": "python",
      "pygments_lexer": "ipython3",
      "version": "3.11.5"
    },
    "colab": {
      "provenance": [],
      "gpuType": "T4"
    },
    "accelerator": "GPU"
  },
  "nbformat": 4,
  "nbformat_minor": 0
}