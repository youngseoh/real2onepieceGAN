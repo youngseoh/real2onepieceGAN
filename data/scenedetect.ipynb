{
  "cells": [
    {
      "cell_type": "code",
      "execution_count": null,
      "metadata": {},
      "outputs": [],
      "source": [
        "from scenedetect import open_video, SceneManager\n",
        "from scenedetect.detectors import ContentDetector\n",
        "from scenedetect.scene_manager import save_images\n",
        "from scenedetect.video_splitter import split_video_ffmpeg\n",
        "\n",
        "# 영상 불러오기\n",
        "video_path = \"onepiece5.mp4\"\n",
        "video = open_video(video_path)\n",
        "\n",
        "# 디텍터 생성, 임계값 30, 장면 당 최소 프레임 수 150\n",
        "content_detector = ContentDetector(threshold=50, min_scene_len=150)\n",
        "\n",
        "# Scene Manager 생성\n",
        "scene_manager = SceneManager()\n",
        "scene_manager.add_detector(content_detector)\n",
        "\n",
        "# 디텍트 수행\n",
        "scene_manager.detect_scenes(video, show_progress=True)\n",
        "scene_list = scene_manager.get_scene_list()\n",
        "\n",
        "# 장면 분할 결과 출력\n",
        "for scene in scene_list:\n",
        "  start, end = scene\n",
        "  print(start, \"~\", end)\n",
        "\n",
        "# # 영상 자르기 (파일로 저장)\n",
        "# split_video_ffmpeg(video_path, scene_list, show_progress=True)\n",
        "\n",
        "# 썸네일 만들기 (jpg 파일로 저장)\n",
        "save_images(\n",
        "    scene_list, # 장면 리스트 [(시작, 끝)]\n",
        "    video, # 영상\n",
        "    num_images=3, # 각 장면 당 이미지 개수\n",
        "    image_name_template='$SCENE_NUMBER', # 결과 이미지 파일 이름\n",
        "    output_dir='Results') # 결과 디렉토리 이름"
      ]
    }
  ],
  "metadata": {
    "colab": {
      "provenance": []
    },
    "kernelspec": {
      "display_name": "Python 3",
      "name": "python3"
    },
    "language_info": {
      "codemirror_mode": {
        "name": "ipython",
        "version": 3
      },
      "file_extension": ".py",
      "mimetype": "text/x-python",
      "name": "python",
      "nbconvert_exporter": "python",
      "pygments_lexer": "ipython3",
      "version": "3.7.9"
    }
  },
  "nbformat": 4,
  "nbformat_minor": 0
}
