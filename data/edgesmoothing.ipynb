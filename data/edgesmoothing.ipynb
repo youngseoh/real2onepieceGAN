{
 "cells": [
  {
   "cell_type": "code",
   "execution_count": 11,
   "metadata": {},
   "outputs": [
    {
     "name": "stderr",
     "output_type": "stream",
     "text": [
      "100%|██████████| 4622/4622 [30:11<00:00,  2.55it/s]  \n"
     ]
    }
   ],
   "source": [
    "import cv2\n",
    "import os\n",
    "import numpy as np\n",
    "from tqdm import tqdm\n",
    "\n",
    "def edge_promoting(root, save):\n",
    "    file_list = os.listdir(root)\n",
    "    if not os.path.isdir(save):\n",
    "        os.makedirs(save)\n",
    "    kernel_size = 5\n",
    "    kernel = np.ones((kernel_size, kernel_size), np.uint8)\n",
    "    gauss = cv2.getGaussianKernel(kernel_size, 0)\n",
    "    gauss = gauss * gauss.transpose(1, 0)\n",
    "    n = 1\n",
    "    for f in tqdm(file_list):\n",
    "        if f.endswith(('.png', '.jpg', '.jpeg', '.bmp', '.tiff')):\n",
    "            # 이미지 파일 경로 설정\n",
    "            input_path = os.path.join(root, f)\n",
    "            output_path = os.path.join(save, str(n) + '.png')\n",
    "            \n",
    "            # 이미지 읽기\n",
    "            rgb_img = cv2.imread(input_path)\n",
    "            gray_img = cv2.cvtColor(rgb_img, cv2.COLOR_BGR2GRAY)\n",
    "            pad_img = np.pad(rgb_img, ((3,3), (3,3), (0,0)), mode='reflect')\n",
    "            \n",
    "            # 이미지 가장자리 검출\n",
    "            edges = cv2.Canny(gray_img, 150, 500)\n",
    "            \n",
    "            # 이미지 dilation 적용\n",
    "            dilation = cv2.dilate(edges, kernel)\n",
    "            \n",
    "            # 가우시안 블러 적용\n",
    "            gauss_img = np.copy(rgb_img)\n",
    "            idx = np.where(dilation != 0)\n",
    "            for i in range(np.sum(dilation != 0)):\n",
    "                row, col = idx[0][i], idx[1][i]\n",
    "                row_padded, col_padded = row + 3, col + 3\n",
    "                \n",
    "                gauss_img[row, col, 0] = np.sum(np.multiply(pad_img[row_padded-2:row_padded+3, col_padded-2:col_padded+3, 0], gauss))\n",
    "                gauss_img[row, col, 1] = np.sum(np.multiply(pad_img[row_padded-2:row_padded+3, col_padded-2:col_padded+3, 1], gauss))\n",
    "                gauss_img[row, col, 2] = np.sum(np.multiply(pad_img[row_padded-2:row_padded+3, col_padded-2:col_padded+3, 2], gauss))\n",
    "            \n",
    "            # 결과 이미지 저장\n",
    "            cv2.imwrite(output_path, gauss_img)\n",
    "            n += 1\n",
    "\n",
    "# 함수 호출\n",
    "edge_promoting(\"output_images_2_crop\", \"output_images_2_crop_edge_blur\")\n",
    "\n",
    "\n",
    "\n",
    "\n"
   ]
  }
 ],
 "metadata": {
  "kernelspec": {
   "display_name": "Python 3",
   "language": "python",
   "name": "python3"
  },
  "language_info": {
   "codemirror_mode": {
    "name": "ipython",
    "version": 3
   },
   "file_extension": ".py",
   "mimetype": "text/x-python",
   "name": "python",
   "nbconvert_exporter": "python",
   "pygments_lexer": "ipython3",
   "version": "3.7.9"
  }
 },
 "nbformat": 4,
 "nbformat_minor": 2
}
